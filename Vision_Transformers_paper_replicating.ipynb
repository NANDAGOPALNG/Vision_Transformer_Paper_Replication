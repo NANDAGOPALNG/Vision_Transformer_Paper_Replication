{
  "nbformat": 4,
  "nbformat_minor": 0,
  "metadata": {
    "colab": {
      "provenance": [],
      "gpuType": "T4",
      "authorship_tag": "ABX9TyN/TjtMDcD8UiLK3hdcWobx",
      "include_colab_link": true
    },
    "kernelspec": {
      "name": "python3",
      "display_name": "Python 3"
    },
    "language_info": {
      "name": "python"
    },
    "accelerator": "GPU"
  },
  "cells": [
    {
      "cell_type": "markdown",
      "metadata": {
        "id": "view-in-github",
        "colab_type": "text"
      },
      "source": [
        "<a href=\"https://colab.research.google.com/github/NANDAGOPALNG/Vision_Transformer_Paper_Replication/blob/main/Vision_Transformers_paper_replicating.ipynb\" target=\"_parent\"><img src=\"https://colab.research.google.com/assets/colab-badge.svg\" alt=\"Open In Colab\"/></a>"
      ]
    },
    {
      "cell_type": "code",
      "execution_count": null,
      "metadata": {
        "id": "rQAw94bhykJ0"
      },
      "outputs": [],
      "source": [
        "# For this notebook to run with updated APIs, we need torch 1.12+ and torchvision 0.13+\n",
        "try:\n",
        "    import torch\n",
        "    import torchvision\n",
        "    assert int(torch.__version__.split(\".\")[1]) >= 12 or int(torch.__version__.split(\".\")[0]) == 2, \"torch version should be 1.12+\"\n",
        "    assert int(torchvision.__version__.split(\".\")[1]) >= 13, \"torchvision version should be 0.13+\"\n",
        "    print(f\"torch version: {torch.__version__}\")\n",
        "    print(f\"torchvision version: {torchvision.__version__}\")\n",
        "except:\n",
        "    print(f\"[INFO] torch/torchvision versions not as required, installing nightly versions.\")\n",
        "    !pip3 install -U torch torchvision torchaudio --index-url https://download.pytorch.org/whl/cu118\n",
        "    import torch\n",
        "    import torchvision\n",
        "    print(f\"torch version: {torch.__version__}\")\n",
        "    print(f\"torchvision version: {torchvision.__version__}\")"
      ]
    },
    {
      "cell_type": "code",
      "source": [
        "# Continue with regular imports\n",
        "import matplotlib.pyplot as plt\n",
        "import torch\n",
        "import torchvision\n",
        "\n",
        "from torch import nn\n",
        "from torchvision import transforms\n",
        "\n",
        "# Try to get torchinfo, install it if it doesn't work\n",
        "try:\n",
        "    from torchinfo import summary\n",
        "except:\n",
        "    print(\"[INFO] Couldn't find torchinfo... installing it.\")\n",
        "    !pip install -q torchinfo\n",
        "    from torchinfo import summary\n",
        "\n",
        "# Try to import the going_modular directory, download it from GitHub if it doesn't work\n",
        "try:\n",
        "    from going_modular.going_modular import data_setup, engine\n",
        "    from helper_functions import download_data, set_seeds, plot_loss_curves\n",
        "except:\n",
        "    # Get the going_modular scripts\n",
        "    print(\"[INFO] Couldn't find going_modular or helper_functions scripts... downloading them from GitHub.\")\n",
        "    !git clone https://github.com/NANDAGOPALNG/pytorch--going_modular\n",
        "    !mv pytorch--going_modular/going_modular .\n",
        "    !mv pytorch--going_modular/helper_functions.py . # get the helper_functions.py script\n",
        "    !rm -rf pytorch--going_modular\n",
        "    from going_modular.going_modular import data_setup, engine\n",
        "    from helper_functions import download_data, set_seeds, plot_loss_curves"
      ],
      "metadata": {
        "id": "homiSiMK6QbQ"
      },
      "execution_count": null,
      "outputs": []
    },
    {
      "cell_type": "code",
      "source": [
        "device = \"cuda\" if torch.cuda.is_available() else \"cpu\"\n",
        "device"
      ],
      "metadata": {
        "id": "0LYcFNvI6jez"
      },
      "execution_count": null,
      "outputs": []
    },
    {
      "cell_type": "code",
      "source": [
        "# Download pizza, steak, sushi images from GitHub\n",
        "image_path = download_data(source=\"https://github.com/mrdbourke/pytorch-deep-learning/raw/main/data/pizza_steak_sushi.zip\",\n",
        "                           destination=\"pizza_steak_sushi\")\n",
        "image_path"
      ],
      "metadata": {
        "id": "eSApKXzC60Nk"
      },
      "execution_count": null,
      "outputs": []
    },
    {
      "cell_type": "code",
      "source": [
        "# Setup directory paths to train and test images\n",
        "train_dir = image_path / \"train\"\n",
        "test_dir = image_path / \"test\""
      ],
      "metadata": {
        "id": "ja4AzCLG6324"
      },
      "execution_count": null,
      "outputs": []
    },
    {
      "cell_type": "code",
      "source": [
        "# Create image size (from Table 3 in the ViT paper)\n",
        "IMG_SIZE = 224\n",
        "\n",
        "# Create transform pipeline manually\n",
        "manual_transforms = transforms.Compose([\n",
        "    transforms.Resize((IMG_SIZE, IMG_SIZE)),\n",
        "    transforms.ToTensor(),\n",
        "])\n",
        "print(f\"Manually created transforms: {manual_transforms}\")"
      ],
      "metadata": {
        "id": "s_3IJ1F97AMq"
      },
      "execution_count": null,
      "outputs": []
    },
    {
      "cell_type": "code",
      "source": [
        "# Set the batch size\n",
        "BATCH_SIZE = 32 # this is lower than the ViT paper but it's because we're starting small\n",
        "\n",
        "# Create data loaders\n",
        "train_dataloader, test_dataloader, class_names = data_setup.create_dataloaders(\n",
        "    train_dir=train_dir,\n",
        "    test_dir=test_dir,\n",
        "    transform=manual_transforms, # use manually created transforms\n",
        "    batch_size=BATCH_SIZE\n",
        ")\n",
        "\n",
        "train_dataloader, test_dataloader, class_names"
      ],
      "metadata": {
        "id": "wZPGdt8W8UZO"
      },
      "execution_count": null,
      "outputs": []
    },
    {
      "cell_type": "code",
      "source": [
        "# Get a batch of images\n",
        "image_batch, label_batch = next(iter(train_dataloader))\n",
        "\n",
        "# Get a single image from the batch\n",
        "image, label = image_batch[0], label_batch[0]\n",
        "\n",
        "# View the batch shapes\n",
        "image.shape, label"
      ],
      "metadata": {
        "id": "5iAE_ex89WAr"
      },
      "execution_count": null,
      "outputs": []
    },
    {
      "cell_type": "code",
      "source": [
        "# Plot image with matplotlib\n",
        "plt.imshow(image.permute(1, 2, 0)) # rearrange image dimensions to suit matplotlib [color_channels, height, width] -> [height, width, color_channels]\n",
        "plt.title(class_names[label])\n",
        "plt.axis(False);"
      ],
      "metadata": {
        "id": "oa7bTkGU9se8"
      },
      "execution_count": null,
      "outputs": []
    },
    {
      "cell_type": "markdown",
      "source": [
        "# Replicating the ViT paper: an overview\n",
        "Before we write any more code, let's discuss what we're doing.\n",
        "\n",
        "We'd like to replicate the ViT paper for our own problem, FoodVision Mini.\n",
        "\n",
        "So our model inputs are: images of pizza, steak and sushi.\n",
        "\n",
        "And our ideal model outputs are: predicted labels of pizza, steak or sushi.\n",
        "\n",
        "No different to what we've been doing throughout the previous sections.\n",
        "\n",
        "The question is: how do we go from our inputs to the desired outputs?\n",
        "\n",
        "**# Inputs and outputs, layers and blocks**\n",
        "\n",
        "ViT is a deep learning neural network architecture.\n",
        "\n",
        "And any neural network architecture is generally comprised of layers.\n",
        "\n",
        "And a collection of layers is often referred to as a block.\n",
        "\n",
        "And stacking many blocks together is what gives us the whole architecture.\n",
        "\n",
        "A layer takes an input (say an image tensor), performs some kind of function on it (for example what's in the layer's forward() method) and then returns an output.\n",
        "\n",
        "So if a single layer takes an input and gives an output, then a collection of layers or a block also takes an input and gives an output.\n",
        "\n",
        "Let's make this concrete:\n",
        "\n",
        "* Layer - takes an input, performs a function on it, returns an output.\n",
        "* Block - a collection of layers, takes an input, performs a series of functions on it, returns an output.\n",
        "* Architecture (or model) - a collection of blocks, takes an input, performs a series of functions on it, returns an output.\n",
        "This ideology is what we're going to be using to replicate the ViT paper.\n",
        "\n",
        "We're going to take it layer by layer, block by block, function by function putting the pieces of the puzzle together like Lego to get our desired overall architecture.\n",
        "\n",
        "The reason we do this is because looking at a whole research paper can be intimidating.\n",
        "\n",
        "So for a better understanding, we'll break it down, starting with the inputs and outputs of single layer and working up to the inputs and outputs of the whole model."
      ],
      "metadata": {
        "id": "XPrjIYxf9280"
      }
    },
    {
      "cell_type": "markdown",
      "source": [
        "![68747470733a2f2f7261772e67697468756275736572636f6e74656e742e636f6d2f6d7264626f75726b652f7079746f7263682d646565702d6c6561726e696e672f6d61696e2f696d616765732f30382d7669742d70617065722d696e74707574732d6f7574707574732d.png](data:image/png;base64,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)"
      ],
      "metadata": {
        "id": "aEsf7GJa_1YH"
      }
    },
    {
      "cell_type": "markdown",
      "source": [
        "### Getting specific: What's ViT made of?\n",
        "\n",
        "There are many little details about the ViT model sprinkled throughout the paper.\n",
        "\n",
        "Finding them all is like one big treasure hunt!\n",
        "\n",
        "Remember, a research paper is often months of work compressed into a few pages so it's understandable for it to take of practice to replicate.\n",
        "\n",
        "However, the main three resources we'll be looking at for the architecture design are:\n",
        "1. **Figure 1** - This gives an overview of the model in a graphical sense, you could *almost* recreate the architecture with this figure alone.\n",
        "2. **Four equations in section 3.1** - These equations give a little bit more of a mathematical grounding to the coloured blocks in Figure 1.\n",
        "3. **Table 1** - This table shows the various hyperparameter settings (such as number of layers and number of hidden units) for different ViT model variants. We'll be focused on the smallest version, ViT-Base."
      ],
      "metadata": {
        "id": "vRUeweMjAQgt"
      }
    },
    {
      "cell_type": "markdown",
      "source": [
        "#### 3.2.1 Exploring Figure 1\n",
        "\n",
        "Let's start by going through Figure 1 of the ViT Paper.\n",
        "\n",
        "The main things we'll be paying attention to are:\n",
        "1. **Layers** - takes an **input**, performs an operation or function on the input, produces an **output**.\n",
        "2. **Blocks** - a collection of layers, which in turn also takes an **input** and produces an **output**.\n",
        "\n",
        "<img src=\"https://raw.githubusercontent.com/mrdbourke/pytorch-deep-learning/main/images/08-vit-paper-figure-1-inputs-and-outputs.png\" width=900 alt=\"figure 1 from the original vision transformer paper\"/>\n",
        "\n",
        "*Figure 1 from the ViT Paper showcasing the different inputs, outputs, layers and blocks that create the architecture. Our goal will be to replicate each of these using PyTorch code.*\n",
        "\n",
        "The ViT architecture is comprised of several stages:\n",
        "* **Patch + Position Embedding (inputs)** - Turns the input image into a sequence of image patches and adds a position number to specify in what order the patch comes in.\n",
        "* **Linear projection of flattened patches (Embedded Patches)** - The image patches get turned into an **embedding**, the benefit of using an embedding rather than just the image values is that an embedding is a *learnable* representation (typically in the form of a vector) of the image that can improve with training.\n",
        "* **Norm** - This is short for \"[Layer Normalization](https://paperswithcode.com/method/layer-normalization)\" or \"LayerNorm\", a technique for regularizing (reducing overfitting) a neural network, you can use LayerNorm via the PyTorch layer [`torch.nn.LayerNorm()`](https://pytorch.org/docs/stable/generated/torch.nn.LayerNorm.html).\n",
        "* **Multi-Head Attention** - This is a [Multi-Headed Self-Attention layer](https://paperswithcode.com/method/multi-head-attention) or \"MSA\" for short. You can create an MSA layer via the PyTorch layer [`torch.nn.MultiheadAttention()`](https://pytorch.org/docs/stable/generated/torch.nn.MultiheadAttention.html).\n",
        "* **MLP (or [Multilayer perceptron](https://en.wikipedia.org/wiki/Multilayer_perceptron))** - A MLP can often refer to any collection of feedforward layers (or in PyTorch's case, a collection of layers with a `forward()` method). In the ViT Paper, the authors refer to the MLP as \"MLP block\" and it contains two [`torch.nn.Linear()`](https://pytorch.org/docs/stable/generated/torch.nn.Linear.html) layers with a [`torch.nn.GELU()`](https://pytorch.org/docs/stable/generated/torch.nn.GELU.html) non-linearity activation in between them (section 3.1) and a [`torch.nn.Dropout()`](https://pytorch.org/docs/stable/generated/torch.nn.Dropout.html) layer after each (Appendix B.1).\n",
        "* **Transformer Encoder** - The Transformer Encoder, is a collection of the layers listed above. There are two skip connections inside the Transformer encoder (the \"+\" symbols) meaning the layer's inputs are fed directly to immediate layers as well as subsequent layers. The overall ViT architecture is comprised of a number of Transformer encoders stacked on top of eachother.\n",
        "* **MLP Head** - This is the output layer of the architecture, it converts the learned features of an input to a class output. Since we're working on image classification, you could also call this the \"classifier head\". The structure of the MLP Head is similar to the MLP block.\n",
        "\n",
        "You might notice that many of the pieces of the ViT architecture can be created with existing PyTorch layers.\n",
        "\n",
        "This is because of how PyTorch is designed, it's one of the main purposes of PyTorch to create reusable neural network layers for both researchers and machine learning practitioners.\n",
        "\n",
        "> **Question:** Why not code everything from scratch?\n",
        ">\n",
        "> You could definitely do that by reproducing all of the math equations from the paper with custom PyTorch layers and that would certainly be an educative exercise, however, using pre-existing PyTorch layers is usually preferred as pre-existing layers have often been extensively tested and performance checked to make sure they run correctly and fast.\n",
        "\n",
        "> **Note:** We're going to be focused on writing PyTorch code to create these layers. For the background on what each of these layers does, I'd suggest reading the ViT Paper in full or reading the linked resources for each layer.\n",
        "\n",
        "Let's take Figure 1 and adapt it to our FoodVision Mini problem of classifying images of food into pizza, steak or sushi.\n",
        "\n",
        "<img src=\"https://raw.githubusercontent.com/mrdbourke/pytorch-deep-learning/main/images/08-vit-paper-figure-1-inputs-and-outputs-food-mini.png\" width=900 alt=\"figure 1 from the original vision transformer paper adapted to work with food images, an image of pizza goes in and gets classified as 'pizza'\"/>\n",
        "\n"
      ],
      "metadata": {
        "id": "yL4sVcv8AcWw"
      }
    },
    {
      "cell_type": "markdown",
      "source": [
        "####  Exploring the Four Equations\n",
        "\n",
        "The next main part(s) of the ViT paper we're going to look at are the four equations in section 3.1.\n",
        "\n",
        "<img src=\"https://raw.githubusercontent.com/mrdbourke/pytorch-deep-learning/main/images/08-vit-paper-four-equations.png\" width=650 alt=\"four mathematical equations from the vision transformer machine learning paper\"/>\n",
        "\n",
        "*These four equations represent the math behind the four major parts of the ViT architecture.*\n",
        "\n",
        "\n",
        "\n",
        "| **Equation number** | **Description from ViT paper section 3.1** |\n",
        "| ----- | ----- |\n",
        "| 1 | ...The Transformer uses constant latent vector size $D$ through all of its layers, so we flatten the patches and map to $D$ dimensions with a **trainable linear projection** (Eq. 1). We refer to the output of this projection as the **patch embeddings**... **Position embeddings** are added to the patch embeddings to retain positional information. We use standard **learnable 1D position embeddings**...|\n",
        "| 2 | The Transformer encoder (Vaswani et al., 2017) consists of alternating layers of multiheaded selfattention (MSA, see Appendix A) and MLP blocks (Eq. 2, 3). **Layernorm (LN) is applied before every block**, and **residual connections after every block** (Wang et al., 2019; Baevski & Auli, 2019). |\n",
        "| 3 | Same as equation 2. |\n",
        "| 4 | Similar to BERT's [ class ] token, we **prepend a learnable embedding to the sequence of embedded patches** $\\left(\\mathbf{z}_{0}^{0}=\\mathbf{x}_{\\text {class }}\\right)$, whose state at the output of the Transformer encoder $\\left(\\mathbf{z}_{L}^{0}\\right)$ serves as the image representation $\\mathbf{y}$ (Eq. 4)... |\n",
        "\n",
        "Let's map these descriptions to the ViT architecture in Figure 1.\n",
        "\n",
        "<img src=\"https://raw.githubusercontent.com/mrdbourke/pytorch-deep-learning/main/images/08-vit-paper-mapping-the-four-equations-to-figure-1.png\" width=1000 alt=\"mapping the vision transformer paper figure 1 to the four equations listed in the paper\"/>\n",
        "\n",
        "*Connecting Figure 1 from the ViT paper to the four equations from section 3.1 describing the math behind each of the layers/blocks.*\n",
        "\n",
        "There's a lot happening in the image above but following the coloured lines and arrows reveals the main concepts of the ViT architecture.\n",
        "\n",
        "How about we break down each equation further (it will be our goal to recreate these with code)?\n",
        "\n",
        "In all equations (except equation 4), \"$\\mathbf{z}$\" is the raw output of a particular layer:\n",
        "\n",
        "1. $\\mathbf{z}_{0}$ is \"z zero\" (this is the output of the initial patch embedding layer).\n",
        "2. $\\mathbf{z}_{\\ell}^{\\prime}$ is \"z of a particular layer *prime*\" (or an intermediary value of z).\n",
        "3. $\\mathbf{z}_{\\ell}$ is \"z of a particular layer\".\n",
        "\n",
        "And $\\mathbf{y}$ is the overall output of the architecture."
      ],
      "metadata": {
        "id": "y3EB-3ruAt7r"
      }
    },
    {
      "cell_type": "markdown",
      "source": [
        "####  Equation 1 overview\n",
        "\n",
        "$$\n",
        "\\begin{aligned}\n",
        "\\mathbf{z}_{0} &=\\left[\\mathbf{x}_{\\text {class }} ; \\mathbf{x}_{p}^{1} \\mathbf{E} ; \\mathbf{x}_{p}^{2} \\mathbf{E} ; \\cdots ; \\mathbf{x}_{p}^{N} \\mathbf{E}\\right]+\\mathbf{E}_{\\text {pos }}, & & \\mathbf{E} \\in \\mathbb{R}^{\\left(P^{2} \\cdot C\\right) \\times D}, \\mathbf{E}_{\\text {pos }} \\in \\mathbb{R}^{(N+1) \\times D}\n",
        "\\end{aligned}\n",
        "$$\n",
        "\n",
        "This equation deals with the class token, patch embedding and position embedding ($\\mathbf{E}$ is for embedding) of the input image.\n",
        "\n",
        "In vector form, the embedding might look something like:\n",
        "\n",
        "```python\n",
        "x_input = [class_token, image_patch_1, image_patch_2, image_patch_3...] + [class_token_position, image_patch_1_position, image_patch_2_position, image_patch_3_position...]\n",
        "```\n",
        "\n",
        "Where each of the elements in the vector is learnable (their `requires_grad=True`)."
      ],
      "metadata": {
        "id": "85d0oKgmA9XS"
      }
    },
    {
      "cell_type": "markdown",
      "source": [
        "#### Equation 3 overview\n",
        "\n",
        "$$\n",
        "\\begin{aligned}\n",
        "\\mathbf{z}_{\\ell} &=\\operatorname{MLP}\\left(\\operatorname{LN}\\left(\\mathbf{z}_{\\ell}^{\\prime}\\right)\\right)+\\mathbf{z}_{\\ell}^{\\prime}, & & \\ell=1 \\ldots L \\\\\n",
        "\\end{aligned}\n",
        "$$\n",
        "\n",
        "This says that for every layer from $1$ through to $L$ (the total number of layers), there's also a Multilayer Perceptron layer (MLP) wrapping a LayerNorm layer (LN).\n",
        "\n",
        "The addition on the end is showing the presence of a skip/residual connection.\n",
        "\n",
        "We'll call this layer the \"MLP block\".\n",
        "\n",
        "In pseudocode, this might look like:\n",
        "\n",
        "```python\n",
        "x_output_MLP_block = MLP_layer(LN_layer(x_output_MSA_block)) + x_output_MSA_block\n",
        "```\n",
        "\n",
        "Notice the skip connection on the end (adding the input of the layers to the output of the layers)."
      ],
      "metadata": {
        "id": "u5x9p-1xBFww"
      }
    },
    {
      "cell_type": "markdown",
      "source": [
        "#### Equation 4 overview\n",
        "\n",
        "$$\n",
        "\\begin{aligned}\n",
        "\\mathbf{y} &=\\operatorname{LN}\\left(\\mathbf{z}_{L}^{0}\\right) & &\n",
        "\\end{aligned}\n",
        "$$\n",
        "\n",
        "This says for the last layer $L$, the output $y$ is the 0 index token of $z$ wrapped in a LayerNorm layer (LN).\n",
        "\n",
        "Or in our case, the 0 index of `x_output_MLP_block`:\n",
        "\n",
        "```python\n",
        "y = Linear_layer(LN_layer(x_output_MLP_block[0]))\n",
        "```\n",
        "\n",
        "Of course there are some simplifications above but we'll take care of those when we start to write PyTorch code for each section.\n",
        "\n"
      ],
      "metadata": {
        "id": "6Ddl6GGVBMZJ"
      }
    },
    {
      "cell_type": "markdown",
      "source": [
        "#### 3.2.7 Exploring Table 1\n",
        "\n",
        "The final piece of the ViT architecture puzzle we'll focus on (for now) is Table 1.\n",
        "\n",
        "| Model | Layers | Hidden size $D$ | MLP size | Heads | Params |\n",
        "| :--- | :---: | :---: | :---: | :---: | :---: |\n",
        "| ViT-Base | 12 | 768 | 3072 | 12 | $86M$ |\n",
        "| ViT-Large | 24 | 1024 | 4096 | 16 | $307M$ |\n",
        "| ViT-Huge | 32 | 1280 | 5120 | 16 | $632M$ |\n",
        "\n",
        "<div align=center>\n",
        "    <i>Table 1: Details of Vision Transformer model variants. Source: <a href=\"https://arxiv.org/abs/2010.11929\">ViT paper</a>.</i>\n",
        "</div>\n",
        "<br>\n",
        "\n",
        "This table showcasing the various hyperparameters of each of the ViT architectures.\n",
        "\n",
        "You can see the numbers gradually increase from ViT-Base to ViT-Huge.\n",
        "\n",
        "We're going to focus on replicating ViT-Base (start small and scale up when necessary) but we'll be writing code that could easily scale up to the larger variants.\n",
        "\n",
        "Breaking the hyperparameters down:\n",
        "* **Layers** - How many Transformer Encoder blocks are there? (each of these will contain a MSA block and MLP block)\n",
        "* **Hidden size $D$** - This is the embedding dimension throughout the architecture, this will be the size of the vector that our image gets turned into when it gets patched and embedded. Generally, the larger the embedding dimension, the more information can be captured, the better results. However, a larger embedding comes at the cost of more computation.\n",
        "* **MLP size** - What are the number of hidden units in the MLP layers?\n",
        "* **Heads** - How many heads are there in the Multi-Head Attention layers?\n",
        "* **Params** - What are the total number of parameters of the model? Generally, more parameters leads to better performance but at the cost of more computation. You'll notice even ViT-Base has far more parameters than any other model we've used so far."
      ],
      "metadata": {
        "id": "rn7mbZflBZC5"
      }
    },
    {
      "cell_type": "markdown",
      "source": [
        "## 4. Equation 1: Split data into patches and creating the class, position and patch embedding\n",
        "\n",
        "I remember one of my machine learning engineer friends used to say \"it's all about the embedding.\"\n",
        "\n",
        "As in, if you can represent your data in a good, learnable way (as **embeddings are learnable representations**), chances are, a learning algorithm will be able to perform well on them.\n",
        "\n",
        "With that being said, let's start by creating the class, position and patch embeddings for the ViT architecture.\n",
        "\n",
        "We'll start with the **patch embedding**.\n",
        "\n",
        "This means we'll be turning our input images in a sequence of patches and then embedding those patches.\n",
        "\n",
        "Recall that an **embedding** is a learnable representation of some form and is often a vector.\n",
        "\n",
        "The term learnable is important because this means the numerical representation of an input image (that the model sees) can be improved over time.\n",
        "\n",
        "We'll begin by following the opening paragraph of section 3.1 of the ViT paper (bold mine):\n",
        "\n",
        "> The standard Transformer receives as input a 1D sequence of token embeddings. To handle 2D images, we reshape the image $\\mathbf{x} \\in \\mathbb{R}^{H \\times W \\times C}$ into a sequence of flattened 2D patches $\\mathbf{x}_{p} \\in \\mathbb{R}^{N \\times\\left(P^{2} \\cdot C\\right)}$, where $(H, W)$ is the resolution of the original image, $C$ is the number of channels, $(P, P)$ is the resolution of each image patch, and $N=H W / P^{2}$ is the resulting number of patches, which also serves as the effective input sequence length for the Transformer. The Transformer uses constant latent vector size $D$ through all of its layers, so we flatten the patches and map to $D$ dimensions with a trainable linear projection (Eq. 1). We refer to the output of this projection as the **patch embeddings**.\n",
        "\n",
        "And size we're dealing with image shapes, let's keep in mind the line from Table 3 of the ViT paper:\n",
        "\n",
        "> Training resolution is **224**.\n",
        "\n",
        "Let's break down the text above.\n",
        "\n",
        "* $D$ is the size of the **patch embeddings**, different values for $D$ for various sized ViT models can be found in Table 1.\n",
        "* The image starts as 2D with size ${H \\times W \\times C}$.\n",
        "    * $(H, W)$ is the resolution of the original image (height, width).\n",
        "    * $C$ is the number of channels.\n",
        "* The image gets converted to a sequence of flattened 2D patches with size ${N \\times\\left(P^{2} \\cdot C\\right)}$.\n",
        "    * $(P, P)$ is the resolution of each image patch (**patch size**).\n",
        "    * $N=H W / P^{2}$ is the resulting number of patches, which also serves as the input sequence length for the Transformer.\n",
        "\n",
        "<img src=\"https://raw.githubusercontent.com/mrdbourke/pytorch-deep-learning/main/images/08-vit-paper-equation-1-annotated.png\" width=900 alt=\"mapping the vit architecture diagram positional and patch embeddings portion to the relative mathematical equation describing what's going on\"/>\n"
      ],
      "metadata": {
        "id": "k7DlTw-0BkXU"
      }
    },
    {
      "cell_type": "markdown",
      "source": [
        "### Calculating patch embedding input and output shapes by hand\n",
        "\n",
        "How about we start by calculating these input and output shape values by hand?\n",
        "\n",
        "To do so, let's create some variables to mimic each of the terms (such as $H$, $W$ etc) above.\n",
        "\n",
        "We'll use a patch size ($P$) of 16 since it's the best performing version of ViT-Base uses (see column \"ViT-B/16\" of Table 5 in the ViT paper for more)."
      ],
      "metadata": {
        "id": "YsaBzZkPBh5t"
      }
    },
    {
      "cell_type": "code",
      "source": [
        "# Create example values\n",
        "height = 224 # H (\"The training resolution is 224.\")\n",
        "width = 224 # W\n",
        "color_channels = 3 # C\n",
        "patch_size = 16 # P\n",
        "\n",
        "# Calculate N (number of patches)\n",
        "number_of_patches = int((height * width) / patch_size**2)\n",
        "print(f\"Number of patches (N) with image height (H={height}), width (W={width}) and patch size (P={patch_size}): {number_of_patches}\")"
      ],
      "metadata": {
        "id": "Vbo6r4bB9wpw"
      },
      "execution_count": null,
      "outputs": []
    },
    {
      "cell_type": "code",
      "source": [
        "# Input shape (this is the size of a single image)\n",
        "embedding_layer_input_shape = (height, width, color_channels)\n",
        "\n",
        "# Output shape\n",
        "embedding_layer_output_shape = (number_of_patches, patch_size**2 * color_channels)\n",
        "\n",
        "print(f\"Input shape (single 2D image): {embedding_layer_input_shape}\")\n",
        "print(f\"Output shape (single 2D image flattened into patches): {embedding_layer_output_shape}\")"
      ],
      "metadata": {
        "id": "5gKJiHoe-lDc"
      },
      "execution_count": null,
      "outputs": []
    },
    {
      "cell_type": "markdown",
      "source": [
        "### Turning a single image into patches\n",
        "\n",
        "Now we know the ideal input and output shapes for our **patch embedding** layer, let's move towards making it.\n",
        "\n",
        "What we're doing is breaking down the overall architecture into smaller pieces, focusing on the inputs and outputs of individual layers.\n",
        "\n",
        "So how do we create the patch embedding layer?\n",
        "\n",
        "We'll get to that shortly, first, let's *visualize, visualize, visualize!* what it looks like to turn an image into patches.\n",
        "\n",
        "Let's start with our single image."
      ],
      "metadata": {
        "id": "uK2YtPvTzItL"
      }
    },
    {
      "cell_type": "code",
      "source": [
        "# View single image\n",
        "plt.imshow(image.permute(1, 2, 0)) # adjust for matplotlib\n",
        "plt.title(class_names[label])\n",
        "plt.axis(False);"
      ],
      "metadata": {
        "id": "cyavB6XW-n3g"
      },
      "execution_count": null,
      "outputs": []
    },
    {
      "cell_type": "code",
      "source": [
        "# Change image shape to be compatible with matplotlib (color_channels, height, width) -> (height, width, color_channels)\n",
        "image_permuted = image.permute(1, 2, 0)\n",
        "\n",
        "# Index to plot the top row of patched pixels\n",
        "patch_size = 16\n",
        "plt.figure(figsize=(patch_size, patch_size))\n",
        "plt.imshow(image_permuted[:patch_size, :, :]);"
      ],
      "metadata": {
        "id": "3y_1f4JAzNsZ"
      },
      "execution_count": null,
      "outputs": []
    },
    {
      "cell_type": "code",
      "source": [
        "# Setup hyperparameters and make sure img_size and patch_size are compatible\n",
        "img_size = 224\n",
        "patch_size = 16\n",
        "num_patches = img_size/patch_size\n",
        "assert img_size % patch_size == 0, \"Image size must be divisible by patch size\"\n",
        "print(f\"Number of patches per row: {num_patches}\\nPatch size: {patch_size} pixels x {patch_size} pixels\")\n",
        "\n",
        "# Create a series of subplots\n",
        "fig, axs = plt.subplots(nrows=1,\n",
        "                        ncols=img_size // patch_size, # one column for each patch\n",
        "                        figsize=(num_patches, num_patches),\n",
        "                        sharex=True,\n",
        "                        sharey=True)\n",
        "\n",
        "# Iterate through number of patches in the top row\n",
        "for i, patch in enumerate(range(0, img_size, patch_size)):\n",
        "    axs[i].imshow(image_permuted[:patch_size, patch:patch+patch_size, :]); # keep height index constant, alter the width index\n",
        "    axs[i].set_xlabel(i+1) # set the label\n",
        "    axs[i].set_xticks([])\n",
        "    axs[i].set_yticks([])"
      ],
      "metadata": {
        "id": "27ymPr70CYeN"
      },
      "execution_count": null,
      "outputs": []
    },
    {
      "cell_type": "code",
      "source": [
        "# Setup hyperparameters and make sure img_size and patch_size are compatible\n",
        "img_size = 224\n",
        "patch_size = 16\n",
        "num_patches = img_size/patch_size\n",
        "assert img_size % patch_size == 0, \"Image size must be divisible by patch size\"\n",
        "print(f\"Number of patches per row: {num_patches}\\\n",
        "        \\nNumber of patches per column: {num_patches}\\\n",
        "        \\nTotal patches: {num_patches*num_patches}\\\n",
        "        \\nPatch size: {patch_size} pixels x {patch_size} pixels\")\n",
        "\n",
        "# Create a series of subplots\n",
        "fig, axs = plt.subplots(nrows=img_size // patch_size, # need int not float\n",
        "                        ncols=img_size // patch_size,\n",
        "                        figsize=(num_patches, num_patches),\n",
        "                        sharex=True,\n",
        "                        sharey=True)\n",
        "\n",
        "# Loop through height and width of image\n",
        "for i, patch_height in enumerate(range(0, img_size, patch_size)): # iterate through height\n",
        "    for j, patch_width in enumerate(range(0, img_size, patch_size)): # iterate through width\n",
        "\n",
        "        # Plot the permuted image patch (image_permuted -> (Height, Width, Color Channels))\n",
        "        axs[i, j].imshow(image_permuted[patch_height:patch_height+patch_size, # iterate through height\n",
        "                                        patch_width:patch_width+patch_size, # iterate through width\n",
        "                                        :]) # get all color channels\n",
        "\n",
        "        # Set up label information, remove the ticks for clarity and set labels to outside\n",
        "        axs[i, j].set_ylabel(i+1,\n",
        "                             rotation=\"horizontal\",\n",
        "                             horizontalalignment=\"right\",\n",
        "                             verticalalignment=\"center\")\n",
        "        axs[i, j].set_xlabel(j+1)\n",
        "        axs[i, j].set_xticks([])\n",
        "        axs[i, j].set_yticks([])\n",
        "        axs[i, j].label_outer()\n",
        "\n",
        "# Set a super title\n",
        "fig.suptitle(f\"{class_names[label]} -> Patchified\", fontsize=16)\n",
        "plt.show()"
      ],
      "metadata": {
        "id": "DBdjWQzJCbnB"
      },
      "execution_count": null,
      "outputs": []
    },
    {
      "cell_type": "markdown",
      "source": [
        "###  Creating image patches with `torch.nn.Conv2d()`\n",
        "\n",
        "We've seen what an image looks like when it gets turned into patches, now let's start moving towards replicating the patch embedding layers with PyTorch.\n",
        "\n",
        "To visualize our single image we wrote code to loop through the different height and width dimensions of a single image and plot individual patches.\n",
        "\n",
        "This operation is very similar to the convolutional operation we saw in [03. PyTorch Computer Vision section 7.1: Stepping through `nn.Conv2d()`](https://www.learnpytorch.io/03_pytorch_computer_vision/#71-stepping-through-nnconv2d).\n",
        "\n",
        "In fact, the authors of the ViT paper mention in section 3.1 that the patch embedding is achievable with a convolutional neural network (CNN):  \n",
        "\n",
        "> **Hybrid Architecture.** As an alternative to raw image patches, the input sequence can be formed from feature maps of a CNN (LeCun et al., 1989). In this hybrid model, the patch embedding projection $\\mathbf{E}$ (Eq. 1) is applied to patches extracted from a **CNN feature map**. As a special case, the patches can have spatial size $1 \\times 1$, which means that the **input sequence is obtained by simply flattening the spatial dimensions of the feature map and projecting to the Transformer dimension**. The classification input embedding and position embeddings are added as described above.\n",
        "\n",
        "The \"**feature map**\" they're referring to are the weights/activations produced by a convolutional layer passing over a given image.\n",
        "\n",
        "<img src=\"https://github.com/mrdbourke/pytorch-deep-learning/raw/main/images/08-vit-paper-patch-embedding-animation.gif\" width=900 alt=\"example of creating a patch embedding by passing a convolutional layer over a single image\"/>\n",
        "\n",
        "*By setting the `kernel_size` and `stride` parameters of a [`torch.nn.Conv2d()`](https://pytorch.org/docs/stable/generated/torch.nn.Conv2d.html) layer equal to the `patch_size`, we can effectively get a layer that splits our image into patches and creates a learnable embedding (referred to as a \"Linear Projection\" in the ViT paper) of each patch.*\n",
        "\n",
        "Remember our ideal input and output shapes for the patch embedding layer?\n",
        "\n",
        "* **Input:** The image starts as 2D with size ${H \\times W \\times C}$.\n",
        "* **Output:** The image gets converted to a 1D sequence of flattened 2D patches with size ${N \\times\\left(P^{2} \\cdot C\\right)}$.\n",
        "\n",
        "Or for an image size of 224 and patch size of 16:\n",
        "\n",
        "* **Input (2D image):** (224, 224, 3) -> (height, width, color channels)\n",
        "* **Output (flattened 2D patches):** (196, 768) -> (number of patches, embedding dimension)\n",
        "\n",
        "We can recreate these with:\n",
        "* [`torch.nn.Conv2d()`](https://pytorch.org/docs/stable/generated/torch.nn.Conv2d.html) for turning our image into patches of CNN feature maps.\n",
        "* [`torch.nn.Flatten()`](https://pytorch.org/docs/stable/generated/torch.nn.Flatten.html) for flattening the spatial dimensions of the feature map.\n",
        "\n",
        "Let's start with the `torch.nn.Conv2d()` layer.\n",
        "\n",
        "We can replicate the creation of patches by setting the `kernel_size` and `stride` equal to `patch_size`.\n",
        "\n",
        "This means each convolutional kernel will be of size `(patch_size x patch_size)` or if `patch_size=16`, `(16 x 16)` (the equivalent of one whole patch).\n",
        "\n",
        "And each step or `stride` of the convolutional kernel will be `patch_size` pixels long or `16` pixels long (equivalent of stepping to the next patch).\n",
        "\n",
        "We'll set `in_channels=3` for the number of color channels in our image and we'll set `out_channels=768`, the same as the $D$ value in Table 1 for ViT-Base (this is the embedding dimension, each image will be embedded into a learnable vector of size 768)."
      ],
      "metadata": {
        "id": "y8TXZkcaCniS"
      }
    },
    {
      "cell_type": "code",
      "source": [
        "from torch import nn\n",
        "\n",
        "# Set the patch size\n",
        "patch_size=16\n",
        "\n",
        "# Create the Conv2d layer with hyperparameters from the ViT paper\n",
        "conv2d = nn.Conv2d(in_channels=3, # number of color channels\n",
        "                   out_channels=768, # from Table 1: Hidden size D, this is the embedding size\n",
        "                   kernel_size=patch_size, # could also use (patch_size, patch_size)\n",
        "                   stride=patch_size,\n",
        "                   padding=0)"
      ],
      "metadata": {
        "id": "mMhn6RvFCfu8"
      },
      "execution_count": null,
      "outputs": []
    },
    {
      "cell_type": "code",
      "source": [
        "# View single image\n",
        "plt.imshow(image.permute(1, 2, 0)) # adjust for matplotlib\n",
        "plt.title(class_names[label])\n",
        "plt.axis(False);"
      ],
      "metadata": {
        "id": "AmOFj-GbCxk8"
      },
      "execution_count": null,
      "outputs": []
    },
    {
      "cell_type": "code",
      "source": [
        "# Pass the image through the convolutional layer\n",
        "image_out_of_conv = conv2d(image.unsqueeze(0)) # add a single batch dimension (height, width, color_channels) -> (batch, height, width, color_channels)\n",
        "print(image_out_of_conv.shape)"
      ],
      "metadata": {
        "id": "cAgZl-A4C0Lb"
      },
      "execution_count": null,
      "outputs": []
    },
    {
      "cell_type": "markdown",
      "source": [
        "Passing our image through the convolutional layer turns it into a series of 768 (this is the embedding size or $D$) feature/activation maps.\n",
        "\n",
        "So its output shape can be read as:\n",
        "    \n",
        "```python\n",
        "torch.Size([1, 768, 14, 14]) -> [batch_size, embedding_dim, feature_map_height, feature_map_width]\n",
        "```\n",
        "\n",
        "Let's visualize five random feature maps and see what they look like."
      ],
      "metadata": {
        "id": "-WSHzda1C8Bz"
      }
    },
    {
      "cell_type": "code",
      "source": [
        "# Plot random 5 convolutional feature maps\n",
        "import random\n",
        "random_indexes = random.sample(range(0, 758), k=5) # pick 5 numbers between 0 and the embedding size\n",
        "print(f\"Showing random convolutional feature maps from indexes: {random_indexes}\")\n",
        "\n",
        "# Create plot\n",
        "fig, axs = plt.subplots(nrows=1, ncols=5, figsize=(12, 12))\n",
        "\n",
        "# Plot random image feature maps\n",
        "for i, idx in enumerate(random_indexes):\n",
        "    image_conv_feature_map = image_out_of_conv[:, idx, :, :] # index on the output tensor of the convolutional layer\n",
        "    axs[i].imshow(image_conv_feature_map.squeeze().detach().numpy())\n",
        "    axs[i].set(xticklabels=[], yticklabels=[], xticks=[], yticks=[]);"
      ],
      "metadata": {
        "id": "egm4GOhrC3ho"
      },
      "execution_count": null,
      "outputs": []
    },
    {
      "cell_type": "markdown",
      "source": [
        "Notice how the feature maps all kind of represent the original image, after visualizing a few more you can start to see the different major outlines and some major features.\n",
        "\n",
        "The important thing to note is that these features may change over time as the neural network learns.\n",
        "\n",
        "And because of these, these feature maps can be considered a **learnable embedding** of our image.\n",
        "\n",
        "Let's check one out in numerical form."
      ],
      "metadata": {
        "id": "ZT91K0BoDFuX"
      }
    },
    {
      "cell_type": "code",
      "source": [
        "# Get a single feature map in tensor form\n",
        "single_feature_map = image_out_of_conv[:, 0, :, :]\n",
        "single_feature_map, single_feature_map.requires_grad"
      ],
      "metadata": {
        "id": "0Aq5rlS1C_p5"
      },
      "execution_count": null,
      "outputs": []
    },
    {
      "cell_type": "markdown",
      "source": [
        "###  Flattening the patch embedding with `torch.nn.Flatten()`\n",
        "\n",
        "We've turned our image into patch embeddings but they're still in 2D format.\n",
        "\n",
        "How do we get them into the desired output shape of the patch embedding layer of the ViT model?\n",
        "\n",
        "* **Desired output (1D sequence of flattened 2D patches):** (196, 768) -> (number of patches, embedding dimension) -> ${N \\times\\left(P^{2} \\cdot C\\right)}$\n",
        "\n",
        "Let's check the current shape."
      ],
      "metadata": {
        "id": "RFmE6itIDKFg"
      }
    },
    {
      "cell_type": "code",
      "source": [
        "# Current tensor shape\n",
        "print(f\"Current tensor shape: {image_out_of_conv.shape} -> [batch, embedding_dim, feature_map_height, feature_map_width]\")"
      ],
      "metadata": {
        "id": "kLqH476pDCmM"
      },
      "execution_count": null,
      "outputs": []
    },
    {
      "cell_type": "markdown",
      "source": [
        "Well we've got the 768 part ( $(P^{2} \\cdot C)$ ) but we still need the number of patches ($N$).\n",
        "\n",
        "Reading back through section 3.1 of the ViT paper it says (bold mine):\n",
        "\n",
        "> As a special case, the patches can have spatial size $1 \\times 1$, which means that the **input sequence is obtained by simply *flattening* the spatial dimensions of the feature map and projecting to the Transformer dimension**.\n",
        "\n",
        "Flattening the spatial dimensions of the feature map hey?\n",
        "\n",
        "What layer do we have in PyTorch that can flatten?\n",
        "\n",
        "How about [`torch.nn.Flatten()`](https://pytorch.org/docs/stable/generated/torch.nn.Flatten.html )?\n",
        "\n",
        "But we don't want to flatten the whole tensor, we only want to flatten the \"spatial dimensions of the feature map\".\n",
        "\n",
        "Which in our case is the `feature_map_height` and `feature_map_width` dimensions of `image_out_of_conv`.\n",
        "\n",
        "So how about we create a `torch.nn.Flatten()` layer to only flatten those dimensions, we can use the `start_dim` and `end_dim` parameters to set that up?"
      ],
      "metadata": {
        "id": "KyGpX2bwDS1l"
      }
    },
    {
      "cell_type": "code",
      "source": [
        "# Create flatten layer\n",
        "flatten = nn.Flatten(start_dim=2, # flatten feature_map_height (dimension 2)\n",
        "                     end_dim=3) # flatten feature_map_width (dimension 3)"
      ],
      "metadata": {
        "id": "8b-NIyy3DN8p"
      },
      "execution_count": null,
      "outputs": []
    },
    {
      "cell_type": "markdown",
      "source": [
        "Nice! Now let's put it all together!\n",
        "\n",
        "We'll:\n",
        "1. Take a single image.\n",
        "2. Put in through the convolutional layer (`conv2d`) to turn the image into 2D feature maps (patch embeddings).\n",
        "3. Flatten the 2D feature map into a single sequence."
      ],
      "metadata": {
        "id": "qDD_kbuLDbkH"
      }
    },
    {
      "cell_type": "code",
      "source": [
        "# 1. View single image\n",
        "plt.imshow(image.permute(1, 2, 0)) # adjust for matplotlib\n",
        "plt.title(class_names[label])\n",
        "plt.axis(False);\n",
        "print(f\"Original image shape: {image.shape}\")\n",
        "\n",
        "# 2. Turn image into feature maps\n",
        "image_out_of_conv = conv2d(image.unsqueeze(0)) # add batch dimension to avoid shape errors\n",
        "print(f\"Image feature map shape: {image_out_of_conv.shape}\")\n",
        "\n",
        "# 3. Flatten the feature maps\n",
        "image_out_of_conv_flattened = flatten(image_out_of_conv)\n",
        "print(f\"Flattened image feature map shape: {image_out_of_conv_flattened.shape}\")"
      ],
      "metadata": {
        "id": "fcsSz3uNDXrd"
      },
      "execution_count": null,
      "outputs": []
    },
    {
      "cell_type": "markdown",
      "source": [
        "It looks like our `image_out_of_conv_flattened` shape is very close to our desired output shape:\n",
        "    \n",
        "* **Desired output (flattened 2D patches):** (196, 768) -> ${N \\times\\left(P^{2} \\cdot C\\right)}$\n",
        "* **Current shape:** (1, 768, 196)\n",
        "\n",
        "The only difference is our current shape has a batch size and the dimensions are in a different order to the desired output.\n",
        "\n",
        "How could we fix this?\n",
        "\n",
        "Well, how about we rearrange the dimensions?\n",
        "\n",
        "We can do so with `torch.Tensor.permute()` just like we do when rearranging image tensors to plot them with matplotlib.\n",
        "\n",
        "Let's try."
      ],
      "metadata": {
        "id": "ISdP8JzPDjdE"
      }
    },
    {
      "cell_type": "code",
      "source": [
        "# Get flattened image patch embeddings in right shape\n",
        "image_out_of_conv_flattened_reshaped = image_out_of_conv_flattened.permute(0, 2, 1) # [batch_size, P^2•C, N] -> [batch_size, N, P^2•C]\n",
        "print(f\"Patch embedding sequence shape: {image_out_of_conv_flattened_reshaped.shape} -> [batch_size, num_patches, embedding_size]\")"
      ],
      "metadata": {
        "id": "D5wm1X6TDeZX"
      },
      "execution_count": null,
      "outputs": []
    },
    {
      "cell_type": "code",
      "source": [
        "# Get a single flattened feature map\n",
        "single_flattened_feature_map = image_out_of_conv_flattened_reshaped[:, :, 0] # index: (batch_size, number_of_patches, embedding_dimension)\n",
        "\n",
        "# Plot the flattened feature map visually\n",
        "plt.figure(figsize=(22, 22))\n",
        "plt.imshow(single_flattened_feature_map.detach().numpy())\n",
        "plt.title(f\"Flattened feature map shape: {single_flattened_feature_map.shape}\")\n",
        "plt.axis(False);"
      ],
      "metadata": {
        "id": "CoHo7WpuDm69"
      },
      "execution_count": null,
      "outputs": []
    },
    {
      "cell_type": "code",
      "source": [
        "# See the flattened feature map as a tensor\n",
        "single_flattened_feature_map, single_flattened_feature_map.requires_grad, single_flattened_feature_map.shape"
      ],
      "metadata": {
        "id": "uJ6PcxApDq4C"
      },
      "execution_count": null,
      "outputs": []
    },
    {
      "cell_type": "markdown",
      "source": [
        "We've turned our single 2D image into a 1D learnable embedding vector (or \"Linear Projection of Flattened Patches\" in Figure 1 of the ViT paper)."
      ],
      "metadata": {
        "id": "q0-rkInwDz7A"
      }
    },
    {
      "cell_type": "markdown",
      "source": [
        "### Turning the ViT patch embedding layer into a PyTorch module\n",
        "\n",
        "Time to put everything we've done for creating the patch embedding into a single PyTorch layer.\n",
        "\n",
        "We can do so by subclassing `nn.Module` and creating a small PyTorch \"model\" to do all of the steps above.\n",
        "\n",
        "Specifically we'll:\n",
        "1. Create a class called `PatchEmbedding` which subclasses `nn.Module` (so it can be used a PyTorch layer).\n",
        "2. Initialize the class with the parameters `in_channels=3`, `patch_size=16` (for ViT-Base) and `embedding_dim=768` (this is $D$ for ViT-Base from Table 1).\n",
        "3. Create a layer to turn an image into patches using `nn.Conv2d()` (just like in 4.3 above).\n",
        "4. Create a layer to flatten the patch feature maps into a single dimension (just like in 4.4 above).\n",
        "5. Define a `forward()` method to take an input and pass it through the layers created in 3 and 4.\n",
        "6. Make sure the output shape reflects the required output shape of the ViT architecture (${N \\times\\left(P^{2} \\cdot C\\right)}$).\n",
        "\n",
        "Let's do it!"
      ],
      "metadata": {
        "id": "cWi4ZBOAD32n"
      }
    },
    {
      "cell_type": "code",
      "source": [
        "# 1. Create a class which subclasses nn.Module\n",
        "class PatchEmbedding(nn.Module):\n",
        "    \"\"\"Turns a 2D input image into a 1D sequence learnable embedding vector.\n",
        "\n",
        "    Args:\n",
        "        in_channels (int): Number of color channels for the input images. Defaults to 3.\n",
        "        patch_size (int): Size of patches to convert input image into. Defaults to 16.\n",
        "        embedding_dim (int): Size of embedding to turn image into. Defaults to 768.\n",
        "    \"\"\"\n",
        "    # 2. Initialize the class with appropriate variables\n",
        "    def __init__(self,\n",
        "                 in_channels:int=3,\n",
        "                 patch_size:int=16,\n",
        "                 embedding_dim:int=768):\n",
        "        super().__init__()\n",
        "\n",
        "        # 3. Create a layer to turn an image into patches\n",
        "        self.patcher = nn.Conv2d(in_channels=in_channels,\n",
        "                                 out_channels=embedding_dim,\n",
        "                                 kernel_size=patch_size,\n",
        "                                 stride=patch_size,\n",
        "                                 padding=0)\n",
        "\n",
        "        # 4. Create a layer to flatten the patch feature maps into a single dimension\n",
        "        self.flatten = nn.Flatten(start_dim=2, # only flatten the feature map dimensions into a single vector\n",
        "                                  end_dim=3)\n",
        "\n",
        "    # 5. Define the forward method\n",
        "    def forward(self, x):\n",
        "        # Create assertion to check that inputs are the correct shape\n",
        "        image_resolution = x.shape[-1]\n",
        "        assert image_resolution % patch_size == 0, f\"Input image size must be divisible by patch size, image shape: {image_resolution}, patch size: {patch_size}\"\n",
        "\n",
        "        # Perform the forward pass\n",
        "        x_patched = self.patcher(x)\n",
        "        x_flattened = self.flatten(x_patched)\n",
        "        # 6. Make sure the output shape has the right order\n",
        "        return x_flattened.permute(0, 2, 1) # adjust so the embedding is on the final dimension [batch_size, P^2•C, N] -> [batch_size, N, P^2•C]"
      ],
      "metadata": {
        "id": "GIHi4P0WDut8"
      },
      "execution_count": null,
      "outputs": []
    },
    {
      "cell_type": "code",
      "source": [
        "set_seeds()\n",
        "\n",
        "# Create an instance of patch embedding layer\n",
        "patchify = PatchEmbedding(in_channels=3,\n",
        "                          patch_size=16,\n",
        "                          embedding_dim=768)\n",
        "\n",
        "# Pass a single image through\n",
        "print(f\"Input image shape: {image.unsqueeze(0).shape}\")\n",
        "patch_embedded_image = patchify(image.unsqueeze(0)) # add an extra batch dimension on the 0th index, otherwise will error\n",
        "print(f\"Output patch embedding shape: {patch_embedded_image.shape}\")"
      ],
      "metadata": {
        "id": "imCRu5OuD9q5"
      },
      "execution_count": null,
      "outputs": []
    },
    {
      "cell_type": "markdown",
      "source": [
        "The output shape matches the ideal input and output shapes we'd like to see from the patch embedding layer:\n",
        "\n",
        "* **Input:** The image starts as 2D with size ${H \\times W \\times C}$.\n",
        "* **Output:** The image gets converted to a 1D sequence of flattened 2D patches with size ${N \\times\\left(P^{2} \\cdot C\\right)}$.\n",
        "\n",
        "Where:\n",
        "* $(H, W)$ is the resolution of the original image.\n",
        "* $C$ is the number of channels.\n",
        "* $(P, P)$ is the resolution of each image patch (**patch size**).\n",
        "* $N=H W / P^{2}$ is the resulting number of patches, which also serves as the effective input sequence length for the Transformer.\n",
        "    \n",
        "We've now replicated the patch embedding for equation 1 but not the class token/position embedding.\n",
        "\n",
        "Let's now get a summary of our `PatchEmbedding` layer."
      ],
      "metadata": {
        "id": "ScJ_3goLEFHk"
      }
    },
    {
      "cell_type": "code",
      "source": [
        "# Create random input sizes\n",
        "random_input_image = (1, 3, 224, 224)\n",
        "random_input_image_error = (1, 3, 250, 250) # will error because image size is incompatible with patch_size\n"
      ],
      "metadata": {
        "id": "FbLR6QQ7EAaq"
      },
      "execution_count": null,
      "outputs": []
    },
    {
      "cell_type": "markdown",
      "source": [
        "<img src=\"https://github.com/mrdbourke/pytorch-deep-learning/raw/main/images/08-vit-paper-summary-output-patchembedding.png\" alt=\"summary output of patchembedding layer for vision transformer with input and output shapes\" width=900/>"
      ],
      "metadata": {
        "id": "LxgSK-9CES_9"
      }
    },
    {
      "cell_type": "markdown",
      "source": [
        "### Creating the class token embedding\n",
        "\n",
        "Okay we've made the image patch embedding, time to get to work on the class token embedding.\n",
        "\n",
        "Or $\\mathbf{x}_\\text {class }$ from equation 1.\n",
        "\n",
        "Reading the second paragraph of section 3.1 from the ViT paper, we see the following description:\n",
        "\n",
        "> Similar to BERT's `[ class ]` token, we prepend a learnable embedding to the sequence of embedded patches $\\left(\\mathbf{z}_{0}^{0}=\\mathbf{x}_{\\text {class }}\\right)$, whose state at the output of the Transformer encoder $\\left(\\mathbf{z}_{L}^{0}\\right)$ serves as the image representation $\\mathbf{y}$ (Eq. 4).\n",
        "\n",
        "> **Note:** [BERT](https://arxiv.org/abs/1810.04805) (Bidirectional Encoder Representations from Transformers) is one of the original machine learning research papers to use the Transformer architecture to achieve outstanding results on natural language processing (NLP) tasks and is where the idea of having a `[ class ]` token at the start of a sequence originated, class being a description for the \"classification\" class the sequence belonged to.\n",
        "\n",
        "So we need to \"preprend a learnable embedding to the sequence of embedded patches\".\n",
        "\n"
      ],
      "metadata": {
        "id": "ufgKTL7tEY1W"
      }
    },
    {
      "cell_type": "code",
      "source": [
        "# View the patch embedding and patch embedding shape\n",
        "print(patch_embedded_image)\n",
        "print(f\"Patch embedding shape: {patch_embedded_image.shape} -> [batch_size, number_of_patches, embedding_dimension]\")"
      ],
      "metadata": {
        "id": "6zVZIJv1ENa5"
      },
      "execution_count": null,
      "outputs": []
    },
    {
      "cell_type": "markdown",
      "source": [
        "To \"prepend a learnable embedding to the sequence of embedded patches\" we need to create a learnable embedding in the shape of the `embedding_dimension` ($D$) and then add it to the `number_of_patches` dimension.\n",
        "\n",
        "Or in pseudocode:\n",
        "\n",
        "```python\n",
        "patch_embedding = [image_patch_1, image_patch_2, image_patch_3...]\n",
        "class_token = learnable_embedding\n",
        "patch_embedding_with_class_token = torch.cat((class_token, patch_embedding), dim=1)\n",
        "```\n",
        "\n",
        "Notice the concatenation (`torch.cat()`) happens on `dim=1` (the `number_of_patches` dimension).\n",
        "\n",
        "Let's create a learnable embedding for the class token.\n",
        "\n",
        "To do so, we'll get the batch size and embedding dimension shape and then we'll create a `torch.ones()` tensor in the shape `[batch_size, 1, embedding_dimension]`.\n",
        "\n",
        "And we'll make the tensor learnable by passing it to `nn.Parameter()` with `requires_grad=True`."
      ],
      "metadata": {
        "id": "_XvTD4DWEuIO"
      }
    },
    {
      "cell_type": "code",
      "source": [
        "# Get the batch size and embedding dimension\n",
        "batch_size = patch_embedded_image.shape[0]\n",
        "embedding_dimension = patch_embedded_image.shape[-1]\n",
        "\n",
        "# Create the class token embedding as a learnable parameter that shares the same size as the embedding dimension (D)\n",
        "class_token = nn.Parameter(torch.ones(batch_size, 1, embedding_dimension), # [batch_size, number_of_tokens, embedding_dimension]\n",
        "                           requires_grad=True) # make sure the embedding is learnable\n",
        "\n",
        "# Show the first 10 examples of the class_token\n",
        "print(class_token[:, :, :10])\n",
        "\n",
        "# Print the class_token shape\n",
        "print(f\"Class token shape: {class_token.shape} -> [batch_size, number_of_tokens, embedding_dimension]\")"
      ],
      "metadata": {
        "id": "nAm0OOD0Edxw"
      },
      "execution_count": null,
      "outputs": []
    },
    {
      "cell_type": "markdown",
      "source": [
        "See how the `number_of_tokens` dimension of `class_token` is `1` since we only want to prepend one class token value to the start of the patch embedding sequence.\n",
        "\n",
        "Now we've got the class token embedding, let's prepend it to our sequence of image patches, `patch_embedded_image`.\n",
        "\n",
        "We can do so using [`torch.cat()`](https://pytorch.org/docs/stable/generated/torch.cat.html) and set `dim=1` (so `class_token`'s `number_of_tokens` dimension is prepended to `patch_embedded_image`'s `number_of_patches` dimension)."
      ],
      "metadata": {
        "id": "FyTyqZ5qE2QW"
      }
    },
    {
      "cell_type": "code",
      "source": [
        "# Add the class token embedding to the front of the patch embedding\n",
        "patch_embedded_image_with_class_embedding = torch.cat((class_token, patch_embedded_image),\n",
        "                                                      dim=1) # concat on first dimension\n",
        "\n",
        "# Print the sequence of patch embeddings with the prepended class token embedding\n",
        "print(patch_embedded_image_with_class_embedding)\n",
        "print(f\"Sequence of patch embeddings with class token prepended shape: {patch_embedded_image_with_class_embedding.shape} -> [batch_size, number_of_patches, embedding_dimension]\")"
      ],
      "metadata": {
        "id": "SIMlh0AAEiXw"
      },
      "execution_count": null,
      "outputs": []
    },
    {
      "cell_type": "markdown",
      "source": [
        "### 4.7 Creating the position embedding\n",
        "\n",
        "Well, we've got the class token embedding and the patch embedding, now how might we create the position embedding?\n",
        "\n",
        "Or $\\mathbf{E}_{\\text {pos }}$ from equation 1 where $E$ stands for \"embedding\".\n",
        "\n",
        "\n",
        "Let's find out more by reading section 3.1 of the ViT paper (bold mine):\n",
        "\n",
        "> Position embeddings are added to the patch embeddings to retain positional information. We use **standard learnable 1D position embeddings**, since we have not observed significant performance gains from using more advanced 2D-aware position embeddings (Appendix D.4). The resulting sequence of embedding vectors serves as input to the encoder.\n",
        "\n",
        "By \"retain positional information\" the authors mean they want the architecture to know what \"order\" the patches come in. As in, patch two comes after patch one and patch three comes after patch two and on and on.\n",
        "\n",
        "This positional information can be important when considering what's in an image (without positional information and a flattened sequence could be seen as having no order and thus no patch relates to any other patch).\n",
        "\n",
        "To start creating the position embeddings, let's view our current embeddings."
      ],
      "metadata": {
        "id": "6lJkhZQHFE3z"
      }
    },
    {
      "cell_type": "code",
      "source": [
        "# View the sequence of patch embeddings with the prepended class embedding\n",
        "patch_embedded_image_with_class_embedding, patch_embedded_image_with_class_embedding.shape"
      ],
      "metadata": {
        "id": "MGTz9YyFE6Iq"
      },
      "execution_count": null,
      "outputs": []
    },
    {
      "cell_type": "markdown",
      "source": [
        "Equation 1 states that the position embeddings ($\\mathbf{E}_{\\text {pos }}$) should have the shape $(N + 1) \\times D$:\n",
        "\n",
        "$$\\mathbf{E}_{\\text {pos }} \\in \\mathbb{R}^{(N+1) \\times D}$$\n",
        "\n",
        "Where:\n",
        "* $N=H W / P^{2}$ is the resulting number of patches, which also serves as the effective input sequence length for the Transformer (number of patches).\n",
        "* $D$ is the size of the **patch embeddings**, different values for $D$ can be found in Table 1 (embedding dimension).\n",
        "\n",
        "Luckily we've got both of these values already.\n",
        "\n",
        "So let's make a learnable 1D embedding with `torch.ones()` to create $\\mathbf{E}_{\\text {pos }}$."
      ],
      "metadata": {
        "id": "qlbpMyRnFTWn"
      }
    },
    {
      "cell_type": "code",
      "source": [
        "# Calculate N (number of patches)\n",
        "number_of_patches = int((height * width) / patch_size**2)\n",
        "\n",
        "# Get embedding dimension\n",
        "embedding_dimension = patch_embedded_image_with_class_embedding.shape[2]\n",
        "\n",
        "# Create the learnable 1D position embedding\n",
        "position_embedding = nn.Parameter(torch.ones(1,\n",
        "                                             number_of_patches+1,\n",
        "                                             embedding_dimension),\n",
        "                                  requires_grad=True) # make sure it's learnable\n",
        "\n",
        "# Show the first 10 sequences and 10 position embedding values and check the shape of the position embedding\n",
        "print(position_embedding[:, :10, :10])\n",
        "print(f\"Position embedding shape: {position_embedding.shape} -> [batch_size, number_of_patches, embedding_dimension]\")"
      ],
      "metadata": {
        "id": "uehIGvlQFPYf"
      },
      "execution_count": null,
      "outputs": []
    },
    {
      "cell_type": "code",
      "source": [
        "# Add the position embedding to the patch and class token embedding\n",
        "patch_and_position_embedding = patch_embedded_image_with_class_embedding + position_embedding\n",
        "print(patch_and_position_embedding)\n",
        "print(f\"Patch embeddings, class token prepended and positional embeddings added shape: {patch_and_position_embedding.shape} -> [batch_size, number_of_patches, embedding_dimension]\")"
      ],
      "metadata": {
        "id": "Dy5UABoxFnDO"
      },
      "execution_count": null,
      "outputs": []
    },
    {
      "cell_type": "markdown",
      "source": [
        "###  Putting it all together: from image to embedding\n",
        "\n",
        "Alright, we've come a long way in terms of turning our input images into an embedding and replicating equation 1 from section 3.1 of the ViT paper:\n",
        "\n",
        "$$\n",
        "\\begin{aligned}\n",
        "\\mathbf{z}_{0} &=\\left[\\mathbf{x}_{\\text {class }} ; \\mathbf{x}_{p}^{1} \\mathbf{E} ; \\mathbf{x}_{p}^{2} \\mathbf{E} ; \\cdots ; \\mathbf{x}_{p}^{N} \\mathbf{E}\\right]+\\mathbf{E}_{\\text {pos }}, & & \\mathbf{E} \\in \\mathbb{R}^{\\left(P^{2} \\cdot C\\right) \\times D}, \\mathbf{E}_{\\text {pos }} \\in \\mathbb{R}^{(N+1) \\times D}\n",
        "\\end{aligned}\n",
        "$$\n",
        "\n",
        "Let's now put everything together in a single code cell and go from input image ($\\mathbf{x}$) to output embedding ($\\mathbf{z}_0$).\n",
        "\n",
        "We can do so by:\n",
        "1. Setting the patch size (we'll use `16` as it's widely used throughout the paper and for ViT-Base).\n",
        "2. Getting a single image, printing its shape and storing its height and width.\n",
        "3. Adding a batch dimension to the single image so it's compatible with our `PatchEmbedding` layer.\n",
        "4. Creating a `PatchEmbedding` layer (the one we made in section 4.5) with a `patch_size=16` and `embedding_dim=768` (from Table 1 for ViT-Base).\n",
        "5. Passing the single image through the `PatchEmbedding` layer in 4 to create a sequence of patch embeddings.\n",
        "6. Creating a class token embedding like in section 4.6.\n",
        "7. Prepending the class token embedding to the patch embeddings created in step 5.\n",
        "8. Creating a position embedding like in section 4.7.\n",
        "9. Adding the position embedding to the class token and patch embeddings created in step 7.\n",
        "\n",
        "We'll also make sure to set the random seeds with `set_seeds()` and print out the shapes of different tensors along the way."
      ],
      "metadata": {
        "id": "8mj2IYKOFxcl"
      }
    },
    {
      "cell_type": "code",
      "source": [
        "set_seeds()\n",
        "\n",
        "# 1. Set patch size\n",
        "patch_size = 16\n",
        "\n",
        "# 2. Print shape of original image tensor and get the image dimensions\n",
        "print(f\"Image tensor shape: {image.shape}\")\n",
        "height, width = image.shape[1], image.shape[2]\n",
        "\n",
        "# 3. Get image tensor and add batch dimension\n",
        "x = image.unsqueeze(0)\n",
        "print(f\"Input image with batch dimension shape: {x.shape}\")\n",
        "\n",
        "# 4. Create patch embedding layer\n",
        "patch_embedding_layer = PatchEmbedding(in_channels=3,\n",
        "                                       patch_size=patch_size,\n",
        "                                       embedding_dim=768)\n",
        "\n",
        "# 5. Pass image through patch embedding layer\n",
        "patch_embedding = patch_embedding_layer(x)\n",
        "print(f\"Patching embedding shape: {patch_embedding.shape}\")\n",
        "\n",
        "# 6. Create class token embedding\n",
        "batch_size = patch_embedding.shape[0]\n",
        "embedding_dimension = patch_embedding.shape[-1]\n",
        "class_token = nn.Parameter(torch.ones(batch_size, 1, embedding_dimension),\n",
        "                           requires_grad=True) # make sure it's learnable\n",
        "print(f\"Class token embedding shape: {class_token.shape}\")\n",
        "\n",
        "# 7. Prepend class token embedding to patch embedding\n",
        "patch_embedding_class_token = torch.cat((class_token, patch_embedding), dim=1)\n",
        "print(f\"Patch embedding with class token shape: {patch_embedding_class_token.shape}\")\n",
        "\n",
        "# 8. Create position embedding\n",
        "number_of_patches = int((height * width) / patch_size**2)\n",
        "position_embedding = nn.Parameter(torch.ones(1, number_of_patches+1, embedding_dimension),\n",
        "                                  requires_grad=True) # make sure it's learnable\n",
        "\n",
        "# 9. Add position embedding to patch embedding with class token\n",
        "patch_and_position_embedding = patch_embedding_class_token + position_embedding\n",
        "print(f\"Patch and position embedding shape: {patch_and_position_embedding.shape}\")"
      ],
      "metadata": {
        "id": "tCqdcUX-FtwJ"
      },
      "execution_count": null,
      "outputs": []
    },
    {
      "cell_type": "markdown",
      "source": [
        "## Equation 2: Multi-Head Attention (MSA)\n",
        "\n",
        "We've got our input data patchified and embedded, now let's move onto the next part of the ViT architecture.\n",
        "\n",
        "To start, we'll break down the Transformer Encoder section into two parts (start small and increase when necessary).\n",
        "\n",
        "The first being equation 2 and the second being equation 3.\n",
        "\n",
        "Recall equation 2 states:\n",
        "\n",
        "$$\n",
        "\\begin{aligned}\n",
        "\\mathbf{z}_{\\ell}^{\\prime} &=\\operatorname{MSA}\\left(\\operatorname{LN}\\left(\\mathbf{z}_{\\ell-1}\\right)\\right)+\\mathbf{z}_{\\ell-1}, & & \\ell=1 \\ldots L\n",
        "\\end{aligned}\n",
        "$$\n",
        "\n",
        "This indicates a Multi-Head Attention (MSA) layer wrapped in a LayerNorm (LN) layer with a residual connection (the input to the layer gets added to the output of the layer).\n",
        "\n",
        "We'll refer to equation 2 as the \"MSA block\".\n",
        "\n",
        "\n",
        "Many layers you find in research papers are already implemented in modern deep learning frameworks such as PyTorch.\n",
        "\n",
        "In saying this, to replicate these layers and residual connection with PyTorch code we can use:\n",
        "* **Multi-Head Self Attention (MSA)** - [`torch.nn.MultiheadAttention()`](https://pytorch.org/docs/stable/generated/torch.nn.MultiheadAttention.html).\n",
        "* **Norm (LN or LayerNorm)** - [`torch.nn.LayerNorm()`](https://pytorch.org/docs/stable/generated/torch.nn.LayerNorm.html).\n",
        "* **Residual connection** - add the input to output (we'll see this later on when we create the full Transformer Encoder block in section 7.1)."
      ],
      "metadata": {
        "id": "d0zEVLEgGAIV"
      }
    },
    {
      "cell_type": "markdown",
      "source": [
        "### The LayerNorm (LN) layer\n",
        "\n",
        "[Layer Normalization](https://paperswithcode.com/method/layer-normalization) (`torch.nn.LayerNorm()` or Norm or LayerNorm or LN) normalizes an input over the last dimension.\n",
        "\n",
        "You can find the formal definition of `torch.nn.LayerNorm()` in the [PyTorch documentation](https://pytorch.org/docs/stable/generated/torch.nn.LayerNorm.html).\n",
        "\n",
        "PyTorch's `torch.nn.LayerNorm()`'s main parameter is `normalized_shape` which we can set to be equal to the dimension size we'd like to normalize over (in our case it'll be $D$ or `768` for ViT-Base).\n",
        "\n",
        "What does it do?\n",
        "\n",
        "Layer Normalization helps improve training time and model generalization (ability to adapt to unseen data).\n",
        "\n",
        "I like to think of any kind of normalization as \"getting the data into a similar format\" or \"getting data samples into a similar distribution\".\n",
        "\n",
        "Imagine trying to walk up (or down) a set of stairs all with differing heights and lengths.\n",
        "\n",
        "It'd take some adjustment on each step right?\n",
        "\n",
        "And what you learn for each step wouldn't necessarily help with the next one since they all differ, increasing the time it takes you to navigate the stairs.\n",
        "\n",
        "Normalization (including Layer Normalization) is the equivalent of making all the stairs the same height and length except the stairs are your data samples.\n",
        "\n",
        "So just like you can walk up (or down) stairs with similar heights and lengths much easier than those with unequal heights and widths, neural networks can optimize over data samples with similar distributions (similar mean and standard-deviations) easier than those with varying distributions."
      ],
      "metadata": {
        "id": "X0F0Ij0fGI5z"
      }
    },
    {
      "cell_type": "markdown",
      "source": [
        "### 5.2 The Multi-Head Self Attention (MSA) layer\n",
        "\n",
        "The power of the self-attention and multi-head attention (self-attention applied multiple times) were revealed in the form of the original Transformer architecture introduced in the [*Attention is all you need*](https://arxiv.org/abs/1706.03762) research paper.\n",
        "\n",
        "Originally designed for text inputs, the original self-attention mechanism takes a sequence of words and then calculates which word should pay more \"attention\" to another word.\n",
        "\n",
        "In other words, in the sentence \"the dog jumped over the fence\", perhaps the word \"dog\" relates strongly to \"jumped\" and \"fence\".\n",
        "\n",
        "This is simplified but the premise remains for images.\n",
        "\n",
        "Since our input is a sequence of image patches rather than words, self-attention and in turn multi-head attention will calculate which patch of an image is most related to another patch, eventually forming a learned representation of an image.\n",
        "\n",
        "But what's most important is that the layer does this on its own given the data (we don't tell it what patterns to learn).\n",
        "\n",
        "And if the learned representation the layers form using MSA are good, we'll see the results in our model's performance.\n",
        "\n",
        "There are many resources online to learn more about the Transformer architecture and attention mechanism online such as Jay Alammar's wonderful [Illustrated Transformer post](https://jalammar.github.io/illustrated-transformer/) and [Illustrated Attention post](https://jalammar.github.io/visualizing-neural-machine-translation-mechanics-of-seq2seq-models-with-attention/).\n",
        "\n",
        "We're going to focus more on coding an existing PyTorch MSA implementation than creating our own.\n",
        "\n",
        "However, you can find the formal definition of the ViT paper's MSA implementation is defined in Appendix A:\n",
        "\n",
        "\n",
        "The image above highlights the triple embedding input to the MSA layer.\n",
        "\n",
        "This is known as **query, key, value** input or **qkv** for short which is fundamental to the self-attention mechanism.\n",
        "\n",
        "In our case, the triple embedding input will be three versions of the output of the Norm layer, one for query, key and value.\n",
        "\n",
        "Or three versions of our layer-normalized image patch and position embeddings created in section 4.8.\n",
        "\n",
        "We can implement the MSA layer in PyTorch with `torch.nn.MultiheadAttention()` with the parameters:\n",
        "* `embed_dim` - the embedding dimension from Table 1 (Hidden size $D$).\n",
        "* `num_heads` - how many attention heads to use (this is where the term \"multihead\" comes from), this value is also in Table 1 (Heads).\n",
        "* `dropout` - whether or not to apply dropout to the attention layer (according to Appendix B.1, dropout isn't used after the qkv-projections).\n",
        "* `batch_first` - does our batch dimension come first? (yes it does)"
      ],
      "metadata": {
        "id": "2zdOzBTjGOfa"
      }
    },
    {
      "cell_type": "markdown",
      "source": [
        "### Replicating Equation 2 with PyTorch layers\n",
        "\n",
        "Let's put everything we've discussed about the LayerNorm (LN) and Multi-Head Attention (MSA) layers in equation 2 into practice.\n",
        "\n",
        "To do so, we'll:  \n",
        "\n",
        "1. Create a class called `MultiheadSelfAttentionBlock` that inherits from `torch.nn.Module`.\n",
        "2. Initialize the class with hyperparameters from Table 1 of the ViT paper for the ViT-Base model.\n",
        "3. Create a layer normalization (LN) layer with `torch.nn.LayerNorm()` with the `normalized_shape` parameter the same as our embedding dimension ($D$ from Table 1).\n",
        "4. Create a multi-head attention (MSA) layer with the appropriate `embed_dim`, `num_heads`, `dropout` and `batch_first` parameters.\n",
        "5. Create a `forward()` method for our class passing the in the inputs through the LN layer and MSA layer."
      ],
      "metadata": {
        "id": "Wjbj9vR2GUOf"
      }
    },
    {
      "cell_type": "code",
      "source": [
        "# 1. Create a class that inherits from nn.Module\n",
        "class MultiheadSelfAttentionBlock(nn.Module):\n",
        "    \"\"\"Creates a multi-head self-attention block (\"MSA block\" for short).\n",
        "    \"\"\"\n",
        "    # 2. Initialize the class with hyperparameters from Table 1\n",
        "    def __init__(self,\n",
        "                 embedding_dim:int=768, # Hidden size D from Table 1 for ViT-Base\n",
        "                 num_heads:int=12, # Heads from Table 1 for ViT-Base\n",
        "                 attn_dropout:float=0): # doesn't look like the paper uses any dropout in MSABlocks\n",
        "        super().__init__()\n",
        "\n",
        "        # 3. Create the Norm layer (LN)\n",
        "        self.layer_norm = nn.LayerNorm(normalized_shape=embedding_dim)\n",
        "\n",
        "        # 4. Create the Multi-Head Attention (MSA) layer\n",
        "        self.multihead_attn = nn.MultiheadAttention(embed_dim=embedding_dim,\n",
        "                                                    num_heads=num_heads,\n",
        "                                                    dropout=attn_dropout,\n",
        "                                                    batch_first=True) # does our batch dimension come first?\n",
        "\n",
        "    # 5. Create a forward() method to pass the data through the layers\n",
        "    def forward(self, x):\n",
        "        x = self.layer_norm(x)\n",
        "        attn_output, _ = self.multihead_attn(query=x, # query embeddings\n",
        "                                             key=x, # key embeddings\n",
        "                                             value=x, # value embeddings\n",
        "                                             need_weights=False) # do we need the weights or just the layer outputs?\n",
        "        return attn_output"
      ],
      "metadata": {
        "id": "mqlRG0mOF4FH"
      },
      "execution_count": null,
      "outputs": []
    },
    {
      "cell_type": "code",
      "source": [
        "# Create an instance of MSABlock\n",
        "multihead_self_attention_block = MultiheadSelfAttentionBlock(embedding_dim=768, # from Table 1\n",
        "                                                             num_heads=12) # from Table 1\n",
        "\n",
        "# Pass patch and position image embedding through MSABlock\n",
        "patched_image_through_msa_block = multihead_self_attention_block(patch_and_position_embedding)\n",
        "print(f\"Input shape of MSA block: {patch_and_position_embedding.shape}\")\n",
        "print(f\"Output shape MSA block: {patched_image_through_msa_block.shape}\")"
      ],
      "metadata": {
        "id": "_V8jFGqFG_Vr"
      },
      "execution_count": null,
      "outputs": []
    },
    {
      "cell_type": "markdown",
      "source": [
        "##  Equation 3: Multilayer Perceptron (MLP)\n",
        "\n",
        "We're on a roll here!\n",
        "\n",
        "Let's keep it going and replicate equation 3:\n",
        "\n",
        "$$\n",
        "\\begin{aligned}\n",
        "\\mathbf{z}_{\\ell} &=\\operatorname{MLP}\\left(\\operatorname{LN}\\left(\\mathbf{z}_{\\ell}^{\\prime}\\right)\\right)+\\mathbf{z}_{\\ell}^{\\prime}, & & \\ell=1 \\ldots L\n",
        "\\end{aligned}\n",
        "$$\n",
        "\n",
        "Here MLP stands for \"multilayer perceptron\" and LN stands for \"layer normalization\" (as discussed above).\n",
        "\n",
        "And the addition on the end is the skip/residual connection.\n",
        "\n",
        "We'll refer to equation 3 as the \"MLP block\" of the Transformer encoder (notice how we're continuing the trend of breaking down the architecture into smaller chunks).\n"
      ],
      "metadata": {
        "id": "pqHhEVG-HIvU"
      }
    },
    {
      "cell_type": "markdown",
      "source": [
        "**bold text**### 6.1 The MLP layer(s)\n",
        "\n",
        "The term [MLP](https://en.wikipedia.org/wiki/Multilayer_perceptron) is quite broad as it can refer to almost any combination of *multiple* layers (hence the \"multi\" in multilayer perceptron).\n",
        "\n",
        "But it generally follows the pattern of:\n",
        "\n",
        "`linear layer -> non-linear layer -> linear layer -> non-linear layer`\n",
        "\n",
        "In the the case of the ViT paper, the MLP structure is defined in section 3.1:\n",
        "\n",
        "> The MLP contains two layers with a GELU non-linearity.\n",
        "\n",
        "Where \"two layers\" refers to linear layers ([`torch.nn.Linear()`](https://pytorch.org/docs/stable/generated/torch.nn.Linear.html) in PyTorch) and \"GELU non-linearity\" is the GELU  (Gaussian Error Linear Units) non-linear activation function ([`torch.nn.GELU()`](https://pytorch.org/docs/stable/generated/torch.nn.GELU.html) in PyTorch).\n",
        "\n",
        "> **Note:** A linear layer (`torch.nn.Linear()`) can sometimes also be referred to as a \"dense layer\" or \"feedforward layer\". Some papers even use all three terms to describe the same thing (as in the ViT paper).\n",
        "\n",
        "Another sneaky detail about the MLP block doesn't appear until Appendix B.1 (Training):\n",
        "\n",
        "> Table 3 summarizes our training setups for our different models. ...Dropout, when used, is applied **after every dense layer except for the the qkv-projections and directly after adding positional- to patch embeddings.**\n",
        "\n",
        "This means that every linear layer (or dense layer) in the MLP block has a dropout layer ([`torch.nn.Dropout()`](https://pytorch.org/docs/stable/generated/torch.nn.Dropout.html) in PyTorch).\n",
        "\n",
        "The value of which can be found in Table 3 of the ViT paper (for ViT-Base, `dropout=0.1`).\n",
        "\n",
        "Knowing this, the structure of our MLP block will be:\n",
        "\n",
        "`layer norm -> linear layer -> non-linear layer -> dropout -> linear layer -> dropout`\n",
        "\n",
        "With hyperparameter values for the linear layers available from Table 1 (MLP size is the number of hidden units between the linear layers and hidden size $D$ is the output size of the MLP block)."
      ],
      "metadata": {
        "id": "OSGtdoi3HQZ-"
      }
    },
    {
      "cell_type": "markdown",
      "source": [
        "### Replicating Equation 3 with PyTorch layers\n",
        "\n",
        "Let's put everything we've discussed about the LayerNorm (LN) and MLP (MSA) layers in equation 3 into practice.\n",
        "\n",
        "To do so, we'll:  \n",
        "\n",
        "1. Create a class called `MLPBlock` that inherits from `torch.nn.Module`.\n",
        "2. Initialize the class with hyperparameters from Table 1 and Table 3 of the ViT paper for the ViT-Base model.\n",
        "3. Create a layer normalization (LN) layer with `torch.nn.LayerNorm()` with the `normalized_shape` parameter the same as our embedding dimension ($D$ from Table 1).\n",
        "4. Create a sequential series of MLP layers(s) using `torch.nn.Linear()`, `torch.nn.Dropout()` and `torch.nn.GELU()` with appropriate hyperparameter values from Table 1 and Table 3.\n",
        "5. Create a `forward()` method for our class passing the in the inputs through the LN layer and MLP layer(s)."
      ],
      "metadata": {
        "id": "PfOZdF2ZHVak"
      }
    },
    {
      "cell_type": "code",
      "source": [
        "# 1. Create a class that inherits from nn.Module\n",
        "class MLPBlock(nn.Module):\n",
        "    \"\"\"Creates a layer normalized multilayer perceptron block (\"MLP block\" for short).\"\"\"\n",
        "    # 2. Initialize the class with hyperparameters from Table 1 and Table 3\n",
        "    def __init__(self,\n",
        "                 embedding_dim:int=768, # Hidden Size D from Table 1 for ViT-Base\n",
        "                 mlp_size:int=3072, # MLP size from Table 1 for ViT-Base\n",
        "                 dropout:float=0.1): # Dropout from Table 3 for ViT-Base\n",
        "        super().__init__()\n",
        "\n",
        "        # 3. Create the Norm layer (LN)\n",
        "        self.layer_norm = nn.LayerNorm(normalized_shape=embedding_dim)\n",
        "\n",
        "        # 4. Create the Multilayer perceptron (MLP) layer(s)\n",
        "        self.mlp = nn.Sequential(\n",
        "            nn.Linear(in_features=embedding_dim,\n",
        "                      out_features=mlp_size),\n",
        "            nn.GELU(), # \"The MLP contains two layers with a GELU non-linearity (section 3.1).\"\n",
        "            nn.Dropout(p=dropout),\n",
        "            nn.Linear(in_features=mlp_size, # needs to take same in_features as out_features of layer above\n",
        "                      out_features=embedding_dim), # take back to embedding_dim\n",
        "            nn.Dropout(p=dropout) # \"Dropout, when used, is applied after every dense layer..\"\n",
        "        )\n",
        "\n",
        "    # 5. Create a forward() method to pass the data through the layers\n",
        "    def forward(self, x):\n",
        "        x = self.layer_norm(x)\n",
        "        x = self.mlp(x)\n",
        "        return x"
      ],
      "metadata": {
        "id": "z5pp6EATHC3v"
      },
      "execution_count": null,
      "outputs": []
    },
    {
      "cell_type": "code",
      "source": [
        "# Create an instance of MLPBlock\n",
        "mlp_block = MLPBlock(embedding_dim=768, # from Table 1\n",
        "                     mlp_size=3072, # from Table 1\n",
        "                     dropout=0.1) # from Table 3\n",
        "\n",
        "# Pass output of MSABlock through MLPBlock\n",
        "patched_image_through_mlp_block = mlp_block(patched_image_through_msa_block)\n",
        "print(f\"Input shape of MLP block: {patched_image_through_msa_block.shape}\")\n",
        "print(f\"Output shape MLP block: {patched_image_through_mlp_block.shape}\")"
      ],
      "metadata": {
        "id": "mJxw6rpOHeCI"
      },
      "execution_count": null,
      "outputs": []
    },
    {
      "cell_type": "markdown",
      "source": [
        "##  Create the Transformer Encoder\n",
        "\n",
        "Time to stack together our `MultiheadSelfAttentionBlock` (equation 2) and `MLPBlock` (equation 3) and create the Transformer Encoder of the ViT architecture.\n",
        "\n",
        "In deep learning, an [\"encoder\" or \"auto encoder\"](https://paperswithcode.com/method/autoencoder) generally refers to a stack of layers that \"encodes\" an input (turns it into some form of numerical representation).\n",
        "\n",
        "In our case, the Transformer Encoder will encode our patched image embedding into a learned representation using a series of alternating layers of MSA blocks and MLP blocks, as per section 3.1 of the ViT Paper:\n",
        "\n",
        "> The Transformer encoder (Vaswani et al., 2017) consists of alternating layers of multiheaded selfattention (MSA, see Appendix A) and MLP blocks (Eq. 2, 3). **Layernorm (LN) is applied before every block**, and **residual connections after every block** (Wang et al., 2019; Baevski & Auli, 2019).\n",
        "\n",
        "We've created MSA and MLP blocks but what about the residual connections?\n",
        "\n",
        "[Residual connections](https://paperswithcode.com/method/residual-connection) (also called skip connections), were first introduced in the paper [*Deep Residual Learning for Image Recognition*](https://arxiv.org/abs/1512.03385v1) and are achieved by adding a layer(s) input to its subsequent output.\n",
        "\n",
        "Where the subsequence output might be one or more layers later.\n",
        "\n",
        "In the case of the ViT architecture, the residual connection means the input of the MSA block is added back to the output of the MSA block before it passes to the MLP block.\n",
        "\n",
        "And the same thing happens with the MLP block before it goes onto the next Transformer Encoder block.\n",
        "\n",
        "Or in pseudocode:\n",
        "\n",
        "`x_input -> MSA_block -> [MSA_block_output + x_input] -> MLP_block -> [MLP_block_output + MSA_block_output + x_input] -> ...`\n",
        "\n",
        "What does this do?\n",
        "\n",
        "One of the main ideas behind residual connections is that they prevent weight values and gradient updates from getting too small and thus allow deeper networks and in turn allow deeper representations to be learned.\n",
        "\n",
        "> **Note:** The iconic computer vision architecture \"ResNet\" is named so because of the introduction of *res*idual connections. You can find many pretrained versions of ResNet architectures in [`torchvision.models`](https://pytorch.org/vision/stable/models.html)."
      ],
      "metadata": {
        "id": "v0Suef6JHmE_"
      }
    },
    {
      "cell_type": "markdown",
      "source": [
        "###  Creating a Transformer Encoder by combining our custom made layers\n",
        "\n",
        "Enough talk, let's see this in action and make a ViT Transformer Encoder with PyTorch by combining our previously created layers.\n",
        "\n",
        "To do so, we'll:  \n",
        "\n",
        "1. Create a class called `TransformerEncoderBlock` that inherits from `torch.nn.Module`.\n",
        "2. Initialize the class with hyperparameters from Table 1 and Table 3 of the ViT paper for the ViT-Base model.\n",
        "3. Instantiate a MSA block for equation 2 using our `MultiheadSelfAttentionBlock` from section 5.2 with the appropriate parameters.\n",
        "4. Instantiate a MLP block for equation 3 using our `MLPBlock` from section 6.2 with the appropriate parameters.\n",
        "5. Create a `forward()` method for our `TransformerEncoderBlock` class.\n",
        "6. Create a residual connection for the MSA block (for equation 2).\n",
        "7. Create a residual connection for the MLP block (for equation 3)."
      ],
      "metadata": {
        "id": "QaYX4qZtHqAl"
      }
    },
    {
      "cell_type": "code",
      "source": [
        "# 1. Create a class that inherits from nn.Module\n",
        "class TransformerEncoderBlock(nn.Module):\n",
        "    \"\"\"Creates a Transformer Encoder block.\"\"\"\n",
        "    # 2. Initialize the class with hyperparameters from Table 1 and Table 3\n",
        "    def __init__(self,\n",
        "                 embedding_dim:int=768, # Hidden size D from Table 1 for ViT-Base\n",
        "                 num_heads:int=12, # Heads from Table 1 for ViT-Base\n",
        "                 mlp_size:int=3072, # MLP size from Table 1 for ViT-Base\n",
        "                 mlp_dropout:float=0.1, # Amount of dropout for dense layers from Table 3 for ViT-Base\n",
        "                 attn_dropout:float=0): # Amount of dropout for attention layers\n",
        "        super().__init__()\n",
        "\n",
        "        # 3. Create MSA block (equation 2)\n",
        "        self.msa_block = MultiheadSelfAttentionBlock(embedding_dim=embedding_dim,\n",
        "                                                     num_heads=num_heads,\n",
        "                                                     attn_dropout=attn_dropout)\n",
        "\n",
        "        # 4. Create MLP block (equation 3)\n",
        "        self.mlp_block =  MLPBlock(embedding_dim=embedding_dim,\n",
        "                                   mlp_size=mlp_size,\n",
        "                                   dropout=mlp_dropout)\n",
        "\n",
        "    # 5. Create a forward() method\n",
        "    def forward(self, x):\n",
        "\n",
        "        # 6. Create residual connection for MSA block (add the input to the output)\n",
        "        x =  self.msa_block(x) + x # Fix: Assign the result back to x\n",
        "\n",
        "        # 7. Create residual connection for MLP block (add the input to the output)\n",
        "        x = self.mlp_block(x) + x\n",
        "\n",
        "        return x # Return the output of the block"
      ],
      "metadata": {
        "id": "AXOQnaB8Hg0s"
      },
      "execution_count": null,
      "outputs": []
    },
    {
      "cell_type": "code",
      "source": [
        "# Create an instance of TransformerEncoderBlock\n",
        "transformer_encoder_block = TransformerEncoderBlock()\n",
        "\n",
        "# # Print an input and output summary of our Transformer Encoder (uncomment for full output)\n",
        "summary(model=transformer_encoder_block,\n",
        "         input_size=(1, 197, 768), # (batch_size, num_patches, embedding_dimension)\n",
        "         col_names=[\"input_size\", \"output_size\", \"num_params\", \"trainable\"],\n",
        "         col_width=20,\n",
        "         row_settings=[\"var_names\"])"
      ],
      "metadata": {
        "id": "4LzLmgBCHytz"
      },
      "execution_count": null,
      "outputs": []
    },
    {
      "cell_type": "markdown",
      "source": [
        "\n",
        "\n",
        " Check out all those parameters!\n",
        "\n",
        "You can see our input changing shape as it moves through all of the various layers in the MSA block and MLP block of the Transformer Encoder block before finally returning to its original shape at the very end.\n"
      ],
      "metadata": {
        "id": "MZB9WUjvH-QS"
      }
    },
    {
      "cell_type": "markdown",
      "source": [
        "### Creating a Transformer Encoder with PyTorch's Transformer layers\n",
        "\n",
        "So far we've built the components of and the Transformer Encoder layer itself ourselves.\n",
        "\n",
        "But because of their rise in popularity and effectiveness, PyTorch now has in-built [Transformer layers as part of `torch.nn`](https://pytorch.org/docs/stable/nn.html#transformer-layers).\n",
        "\n",
        "For example, we can recreate the `TransformerEncoderBlock` we just created using [`torch.nn.TransformerEncoderLayer()`](https://pytorch.org/docs/stable/generated/torch.nn.TransformerEncoderLayer.html#torch.nn.TransformerEncoderLayer) and setting the same hyperparameters as above."
      ],
      "metadata": {
        "id": "8u0P7dVYIC5h"
      }
    },
    {
      "cell_type": "code",
      "source": [
        "# Create the same as above with torch.nn.TransformerEncoderLayer()\n",
        "torch_transformer_encoder_layer = nn.TransformerEncoderLayer(d_model=768, # Hidden size D from Table 1 for ViT-Base\n",
        "                                                             nhead=12, # Heads from Table 1 for ViT-Base\n",
        "                                                             dim_feedforward=3072, # MLP size from Table 1 for ViT-Base\n",
        "                                                             dropout=0.1, # Amount of dropout for dense layers from Table 3 for ViT-Base\n",
        "                                                             activation=\"gelu\", # GELU non-linear activation\n",
        "                                                             batch_first=True, # Do our batches come first?\n",
        "                                                             norm_first=True) # Normalize first or after MSA/MLP layers?\n",
        "\n",
        "torch_transformer_encoder_layer"
      ],
      "metadata": {
        "id": "A0lMhJJ8H3H7"
      },
      "execution_count": null,
      "outputs": []
    },
    {
      "cell_type": "code",
      "source": [
        "# Get the output of PyTorch's version of the Transformer Encoder (uncomment for full output)\n",
        "summary(model=torch_transformer_encoder_layer,\n",
        "        input_size=(1, 197, 768), # (batch_size, num_patches, embedding_dimension)\n",
        "        col_names=[\"input_size\", \"output_size\", \"num_params\", \"trainable\"],\n",
        "        col_width=20,\n",
        "        row_settings=[\"var_names\"])"
      ],
      "metadata": {
        "id": "6EMKASPdIJiE"
      },
      "execution_count": null,
      "outputs": []
    },
    {
      "cell_type": "markdown",
      "source": [
        "The output of the summary is slightly different to ours due to how `torch.nn.TransformerEncoderLayer()` constructs its layer.\n",
        "\n",
        "But the layers it uses, number of parameters and input and output shapes are the same.\n",
        "\n",
        "You might be thinking, \"if we could create the Transformer Encoder so quickly with PyTorch layers, why did we bother reproducing equation 2 and 3?\"\n",
        "\n",
        "The answer is: practice.\n",
        "\n",
        "Now we've replicated a series of equations and layers from a paper, if you need to change the layers and try something different you can.\n",
        "\n",
        "But there are benefits of using the PyTorch pre-built layers, such as:\n",
        "* **Less prone to errors** - Generally, if a layer makes it into the PyTorch standard library, it's been tested and tried to work.\n",
        "* **Potentially better performance** - As of July 2022 and PyTorch 1.12, the PyTorch implemented version of `torch.nn.TransformerEncoderLayer()` can see [a speedup of more than 2x on many common workloads](https://pytorch.org/blog/a-better-transformer-for-fast-transformer-encoder-inference/).\n",
        "\n",
        "Finally, since the ViT architecture uses several Transformer Layers stacked on top of each for the full architecture (Table 1 shows 12 Layers in the case of ViT-Base), you can do this with [`torch.nn.TransformerEncoder(encoder_layer, num_layers)`](https://pytorch.org/docs/stable/generated/torch.nn.TransformerEncoder.html#torch.nn.TransformerEncoder) where:\n",
        "* `encoder_layer` - The target Transformer Encoder layer created with `torch.nn.TransformerEncoderLayer()`.\n",
        "* `num_layers` - The number of Transformer Encoder layers to stack together."
      ],
      "metadata": {
        "id": "NkYGxnQHIkhj"
      }
    },
    {
      "cell_type": "markdown",
      "source": [
        "##  Putting it all together to create ViT\n",
        "\n",
        "Alright, alright, alright, we've come a long way!\n",
        "\n",
        "But now it's time to do the exciting thing of putting together all of the pieces of the puzzle.\n",
        "\n",
        "We're going to combine all of the blocks we've created to replicate the full ViT architecture.\n",
        "\n",
        "From the patch and positional embedding to the Transformer Encoder(s) to the MLP Head.\n",
        "\n",
        "But wait, we haven't created equation 4 yet...\n",
        "\n",
        "$$\n",
        "\\begin{aligned}\n",
        "\\mathbf{y} &=\\operatorname{LN}\\left(\\mathbf{z}_{L}^{0}\\right) & &\n",
        "\\end{aligned}\n",
        "$$\n",
        "\n",
        "Don't worry, we can put equation 4 into our overall ViT architecture class.\n",
        "\n",
        "All we need is a `torch.nn.LayerNorm()` layer and a `torch.nn.Linear()` layer to convert the 0th index ($\\mathbf{z}_{L}^{0}$) of the Transformer Encoder logit outputs to the target number of classes we have.\n",
        "\n",
        "To create the full architecture, we'll also need to stack a number of our `TransformerEncoderBlock`s on top of each other, we can do this by passing a list of them to `torch.nn.Sequential()` (this will make a sequential range of `TransformerEncoderBlock`s).\n",
        "\n",
        "We'll focus on the ViT-Base hyperparameters from Table 1 but our code should be adaptable to other ViT variants.\n",
        "\n",
        "Creating ViT will be our biggest code block yet but we can do it!\n",
        "\n",
        "Finally, to bring our own implementation of ViT to life, let's:\n",
        "\n",
        "1. Create a class called `ViT` that inherits from `torch.nn.Module`.\n",
        "2. Initialize the class with hyperparameters from Table 1 and Table 3 of the ViT paper for the ViT-Base model.\n",
        "3. Make sure the image size is divisible by the patch size (the image should be split into even patches).\n",
        "4. Calculate the number of patches using the formula $N=H W / P^{2}$, where $H$ is the image height, $W$ is the image width and $P$ is the patch size.\n",
        "5. Create a learnable class embedding token (equation 1) as done above in section 4.6.\n",
        "6. Create a learnable position embedding vector (equation 1) as done above in section 4.7.\n",
        "7. Setup the embedding dropout layer as discussed in Appendix B.1 of the ViT paper.\n",
        "8. Create the patch embedding layer using the `PatchEmbedding` class as above in section 4.5.\n",
        "9. Create a series of Transformer Encoder blocks by passing a list of `TransformerEncoderBlock`s created in section 7.1 to `torch.nn.Sequential()` (equations 2 & 3).\n",
        "10. Create the MLP head (also called classifier head or equation 4) by passing a `torch.nn.LayerNorm()` (LN) layer and a `torch.nn.Linear(out_features=num_classes)` layer (where `num_classes` is the target number of classes) linear layer to `torch.nn.Sequential()`.\n",
        "11. Create a `forward()` method that accepts an input.\n",
        "12. Get the batch size of the input (the first dimension of the shape).\n",
        "13. Create the patching embedding using the layer created in step 8 (equation 1).\n",
        "14. Create the class token embedding using the layer created in step 5 and expand it across the number of batches found in step 11 using [`torch.Tensor.expand()`](https://pytorch.org/docs/stable/generated/torch.Tensor.expand.html) (equation 1).\n",
        "15. Concatenate the class token embedding created in step 13 to the first dimension of the patch embedding created in step 12 using [`torch.cat()`](https://pytorch.org/docs/stable/generated/torch.cat.html) (equation 1).\n",
        "16. Add the position embedding created in step 6 to the patch and class token embedding created in step 14 (equation 1).\n",
        "17. Pass the patch and position embedding through the dropout layer created in step 7.\n",
        "18. Pass the patch and position embedding from step 16 through the stack of Transformer Encoder layers created in step 9 (equations 2 & 3).\n",
        "19. Pass index 0 of the output of the stack of Transformer Encoder layers from step 17 through the classifier head created in step 10 (equation 4).\n",
        "20. Dance and shout woohoo!!! We just built a Vision Transformer!\n",
        "\n"
      ],
      "metadata": {
        "id": "Fth0arilIp6P"
      }
    },
    {
      "cell_type": "code",
      "source": [
        "# 1. Create a ViT class that inherits from nn.Module\n",
        "class ViT(nn.Module):\n",
        "    \"\"\"Creates a Vision Transformer architecture with ViT-Base hyperparameters by default.\"\"\"\n",
        "    # 2. Initialize the class with hyperparameters from Table 1 and Table 3\n",
        "    def __init__(self,\n",
        "                 img_size:int=224, # Training resolution from Table 3 in ViT paper\n",
        "                 in_channels:int=3, # Number of channels in input image\n",
        "                 patch_size:int=16, # Patch size\n",
        "                 num_transformer_layers:int=12, # Layers from Table 1 for ViT-Base\n",
        "                 embedding_dim:int=768, # Hidden size D from Table 1 for ViT-Base\n",
        "                 mlp_size:int=3072, # MLP size from Table 1 for ViT-Base\n",
        "                 num_heads:int=12, # Heads from Table 1 for ViT-Base\n",
        "                 attn_dropout:float=0, # Dropout for attention projection\n",
        "                 mlp_dropout:float=0.1, # Dropout for dense/MLP layers\n",
        "                 embedding_dropout:float=0.1, # Dropout for patch and position embeddings\n",
        "                 num_classes:int=1000): # Default for ImageNet but can customize this\n",
        "        super().__init__() # don't forget the super().__init__()!\n",
        "\n",
        "        # 3. Make the image size is divisible by the patch size\n",
        "        assert img_size % patch_size == 0, f\"Image size must be divisible by patch size, image size: {img_size}, patch size: {patch_size}.\"\n",
        "\n",
        "        # 4. Calculate number of patches (height * width/patch^2)\n",
        "        self.num_patches = (img_size * img_size) // patch_size**2\n",
        "\n",
        "        # 5. Create learnable class embedding (needs to go at front of sequence of patch embeddings)\n",
        "        self.class_embedding = nn.Parameter(data=torch.randn(1, 1, embedding_dim),\n",
        "                                            requires_grad=True)\n",
        "\n",
        "        # 6. Create learnable position embedding\n",
        "        self.position_embedding = nn.Parameter(data=torch.randn(1, self.num_patches+1, embedding_dim),\n",
        "                                               requires_grad=True)\n",
        "\n",
        "        # 7. Create embedding dropout value\n",
        "        self.embedding_dropout = nn.Dropout(p=embedding_dropout)\n",
        "\n",
        "        # 8. Create patch embedding layer\n",
        "        self.patch_embedding = PatchEmbedding(in_channels=in_channels,\n",
        "                                              patch_size=patch_size,\n",
        "                                              embedding_dim=embedding_dim)\n",
        "\n",
        "        # 9. Create Transformer Encoder blocks (we can stack Transformer Encoder blocks using nn.Sequential())\n",
        "        # Note: The \"*\" means \"all\"\n",
        "        self.transformer_encoder = nn.Sequential(*[TransformerEncoderBlock(embedding_dim=embedding_dim,\n",
        "                                                                            num_heads=num_heads,\n",
        "                                                                            mlp_size=mlp_size,\n",
        "                                                                            mlp_dropout=mlp_dropout) for _ in range(num_transformer_layers)])\n",
        "\n",
        "        # 10. Create classifier head\n",
        "        self.classifier = nn.Sequential(\n",
        "            nn.LayerNorm(normalized_shape=embedding_dim),\n",
        "            nn.Linear(in_features=embedding_dim,\n",
        "                      out_features=num_classes)\n",
        "        )\n",
        "\n",
        "    # 11. Create a forward() method\n",
        "    def forward(self, x):\n",
        "\n",
        "        # 12. Get batch size\n",
        "        batch_size = x.shape[0]\n",
        "\n",
        "        # 13. Create class token embedding and expand it to match the batch size (equation 1)\n",
        "        class_token = self.class_embedding.expand(batch_size, -1, -1) # \"-1\" means to infer the dimension (try this line on its own)\n",
        "\n",
        "        # 14. Create patch embedding (equation 1)\n",
        "        x = self.patch_embedding(x)\n",
        "\n",
        "        # 15. Concat class embedding and patch embedding (equation 1)\n",
        "        x = torch.cat((class_token, x), dim=1)\n",
        "\n",
        "        # 16. Add position embedding to patch embedding (equation 1)\n",
        "        x = self.position_embedding + x\n",
        "\n",
        "        # 17. Run embedding dropout (Appendix B.1)\n",
        "        x = self.embedding_dropout(x)\n",
        "\n",
        "        # 18. Pass patch, position and class embedding through transformer encoder layers (equations 2 & 3)\n",
        "        x = self.transformer_encoder(x)\n",
        "\n",
        "        # 19. Put 0 index logit through classifier (equation 4)\n",
        "        x = self.classifier(x[:, 0]) # run on each sample in a batch at 0 index\n",
        "\n",
        "        return x"
      ],
      "metadata": {
        "id": "ISF24BqyIgHv"
      },
      "execution_count": null,
      "outputs": []
    },
    {
      "cell_type": "code",
      "source": [
        "# Example of creating the class embedding and expanding over a batch dimension\n",
        "batch_size = 32\n",
        "class_token_embedding_single = nn.Parameter(data=torch.randn(1, 1, 768)) # create a single learnable class token\n",
        "class_token_embedding_expanded = class_token_embedding_single.expand(batch_size, -1, -1) # expand the single learnable class token across the batch dimension, \"-1\" means to \"infer the dimension\"\n",
        "\n",
        "# Print out the change in shapes\n",
        "print(f\"Shape of class token embedding single: {class_token_embedding_single.shape}\")\n",
        "print(f\"Shape of class token embedding expanded: {class_token_embedding_expanded.shape}\")"
      ],
      "metadata": {
        "id": "8L5xdv7XIyrl"
      },
      "execution_count": null,
      "outputs": []
    },
    {
      "cell_type": "markdown",
      "source": [
        "Notice how the first dimension gets expanded to the batch size and the other dimensions stay the same (because they're inferred by the \"`-1`\" dimensions in `.expand(batch_size, -1, -1)`).\n",
        "\n",
        "Alright time to test out `ViT()` class.\n",
        "\n",
        "Let's create a random tensor in the same shape as a single image, pass to an instance of `ViT` and see what happens."
      ],
      "metadata": {
        "id": "ZyJ_wRvkI7Cp"
      }
    },
    {
      "cell_type": "code",
      "source": [
        "set_seeds()\n",
        "\n",
        "# Create a random tensor with same shape as a single image\n",
        "random_image_tensor = torch.randn(1, 3, 224, 224) # (batch_size, color_channels, height, width)\n",
        "\n",
        "# Create an instance of ViT with the number of classes we're working with (pizza, steak, sushi)\n",
        "vit = ViT(num_classes=len(class_names))\n",
        "\n",
        "# Pass the random image tensor to our ViT instance\n",
        "vit(random_image_tensor)"
      ],
      "metadata": {
        "id": "mx8UyBSZI3Tn"
      },
      "execution_count": null,
      "outputs": []
    },
    {
      "cell_type": "code",
      "source": [
        "from torchinfo import summary\n",
        "\n",
        " # Print a summary of our custom ViT model using torchinfo (uncomment for actual output)\n",
        "summary(model=vit,\n",
        "        input_size=(32, 3, 224, 224), # (batch_size, color_channels, height, width)\n",
        "        # col_names=[\"input_size\"], # uncomment for smaller output\n",
        "        col_names=[\"input_size\", \"output_size\", \"num_params\", \"trainable\"],\n",
        "        col_width=20,\n",
        "        row_settings=[\"var_names\"]\n",
        ")"
      ],
      "metadata": {
        "id": "expojckWI_S_"
      },
      "execution_count": null,
      "outputs": []
    },
    {
      "cell_type": "markdown",
      "source": [
        "## Setting up training code for our ViT model\n",
        "\n",
        "Ok time for the easy part.\n",
        "\n",
        "Training!\n",
        "\n",
        "Why easy?\n",
        "\n",
        "Because we've got most of what we need ready to go, from our model (`vit`) to our DataLoaders (`train_dataloader`, `test_dataloader`) to the training functions we created in [05. PyTorch Going Modular section 4](https://www.learnpytorch.io/05_pytorch_going_modular/#4-creating-train_step-and-test_step-functions-and-train-to-combine-them).\n",
        "\n",
        "To train our model we can import the `train()` function from [`going_modular.going_modular.engine`](https://github.com/mrdbourke/pytorch-deep-learning/blob/main/going_modular/going_modular/train.py).\n",
        "\n",
        "All we need is a loss function and an optimizer."
      ],
      "metadata": {
        "id": "fk52SvQhJkah"
      }
    },
    {
      "cell_type": "markdown",
      "source": [
        "### Creating an optimizer\n",
        "\n",
        "Searching the ViT paper for \"optimizer\", section 4.1 on Training & Fine-tuning states:\n",
        "\n",
        "> **Training & Fine-tuning.** We train all models, including ResNets, using Adam (Kingma & Ba, 2015 ) with $\\beta_{1}=0.9, \\beta_{2}=0.999$, a batch size of 4096 and apply a high weight decay of $0.1$, which we found to be useful for transfer of all models (Appendix D.1 shows that, in contrast to common practices, Adam works slightly better than SGD for ResNets in our setting).\n",
        "\n",
        "So we can see they chose to use the \"Adam\" optimizer ([`torch.optim.Adam()`](https://pytorch.org/docs/stable/generated/torch.optim.Adam.html#torch.optim.Adam)) rather than SGD (stochastic gradient descent, [`torch.optim.SGD()`](https://pytorch.org/docs/stable/generated/torch.optim.SGD.html#torch.optim.SGD)).\n",
        "\n",
        "The authors set Adam's $\\beta$ (beta) values to $\\beta_{1}=0.9, \\beta_{2}=0.999$, these are the default values for the `betas` parameter in `torch.optim.Adam(betas=(0.9, 0.999))`.\n",
        "\n",
        "They also state the use of [weight decay](https://paperswithcode.com/method/weight-decay) (slowly reducing the values of the weights during optimization to prevent overfitting), we can set this with the `weight_decay` parameter in `torch.optim.Adam(weight_decay=0.3)` (according to the setting of ViT-* trained on ImageNet-1k).\n",
        "\n",
        "We'll set the learning rate of the optimizer to 0.003 as per Table 3 (according to the setting of ViT-* trained on ImageNet-1k).\n",
        "\n",
        "And as discussed previously, we're going to use a lower batch size than 4096 due to hardware limitations (if you have a large GPU, feel free to increase this)."
      ],
      "metadata": {
        "id": "sJApzyQjJq9r"
      }
    },
    {
      "cell_type": "markdown",
      "source": [
        "### Creating a loss function\n",
        "\n",
        "Strangely, searching the ViT paper for \"loss\" or \"loss function\" or \"criterion\" returns no results.\n",
        "\n",
        "However, since the target problem we're working with is multi-class classification (the same for the ViT paper), we'll use [`torch.nn.CrossEntropyLoss()`](https://pytorch.org/docs/stable/generated/torch.nn.CrossEntropyLoss.html)."
      ],
      "metadata": {
        "id": "7I1RozM9JzvK"
      }
    },
    {
      "cell_type": "markdown",
      "source": [
        "### Training our ViT model\n",
        "\n",
        "Okay, now we know what optimizer and loss function we're going to use, let's setup the training code for training our ViT.\n",
        "\n",
        "We'll start by importing the `engine.py` script from `going_modular.going_modular` then we'll setup the optimizer and loss function and finally we'll use the `train()` function from `engine.py` to train our ViT model for 10 epochs (we're using a smaller number of epochs than the ViT paper to make sure everything works)."
      ],
      "metadata": {
        "id": "ERxDIjWAJ4EU"
      }
    },
    {
      "cell_type": "code",
      "source": [
        "from going_modular.going_modular import engine\n",
        "\n",
        "# Setup the optimizer to optimize our ViT model parameters using hyperparameters from the ViT paper\n",
        "optimizer = torch.optim.Adam(params=vit.parameters(),\n",
        "                             lr=3e-3, # Base LR from Table 3 for ViT-* ImageNet-1k\n",
        "                             betas=(0.9, 0.999), # default values but also mentioned in ViT paper section 4.1 (Training & Fine-tuning)\n",
        "                             weight_decay=0.3) # from the ViT paper section 4.1 (Training & Fine-tuning) and Table 3 for ViT-* ImageNet-1k\n",
        "\n",
        "# Setup the loss function for multi-class classification\n",
        "loss_fn = torch.nn.CrossEntropyLoss()\n",
        "\n",
        "# Set the seeds\n",
        "set_seeds()\n",
        "\n",
        "# Train the model and save the training results to a dictionary\n",
        "results = engine.train(model=vit,\n",
        "                       train_dataloader=train_dataloader,\n",
        "                       test_dataloader=test_dataloader,\n",
        "                       optimizer=optimizer,\n",
        "                       loss_fn=loss_fn,\n",
        "                       epochs=10,\n",
        "                       device=device)"
      ],
      "metadata": {
        "id": "O305eoxlJc5V"
      },
      "execution_count": null,
      "outputs": []
    },
    {
      "cell_type": "markdown",
      "source": [
        "### What our training setup is missing\n",
        "\n",
        "The original ViT architecture achieves good results on several image classification benchmarks (on par or better than many state-of-the-art results when it was released).\n",
        "\n",
        "However, our results (so far) aren't as good.\n",
        "\n",
        "There's a few reasons this could be but the main one is scale.\n",
        "\n",
        "The original ViT paper uses a far larger amount of data than ours (in deep learning, more data is generally always a good thing) and a longer training schedule (see Table 3).\n",
        "\n",
        "| **Hyperparameter value** | **ViT Paper** | **Our implementation** |\n",
        "| ----- | ----- | ----- |\n",
        "| Number of training images | 1.3M (ImageNet-1k), 14M (ImageNet-21k), 303M (JFT) | 225 |\n",
        "| Epochs | 7 (for largest dataset), 90, 300 (for ImageNet) | 10 |\n",
        "| Batch size | 4096 | 32 |\n",
        "| [Learning rate warmup](https://paperswithcode.com/method/linear-warmup) | 10k steps (Table 3) | None |\n",
        "| [Learning rate decay](https://medium.com/analytics-vidhya/learning-rate-decay-and-methods-in-deep-learning-2cee564f910b#:~:text=Learning%20rate%20decay%20is%20a,help%20both%20optimization%20and%20generalization.) | Linear/Cosine (Table 3) | None |\n",
        "| [Gradient clipping](https://paperswithcode.com/method/gradient-clipping) | Global norm 1 (Table 3) | None |\n",
        "\n",
        "Even though our ViT architecture is the same as the paper, the results from the ViT paper were achieved using far more data and a more elaborate training scheme than ours.\n",
        "\n",
        "Because of the size of the ViT architecture and its high number of parameters (increased learning capabilities), and amount of data it uses (increased learning opportunities), many of the techniques used in the ViT paper training scheme such as learning rate warmup, learning rate decay and gradient clipping are specifically designed to [prevent overfitting](https://www.learnpytorch.io/04_pytorch_custom_datasets/#81-how-to-deal-with-overfitting) (regularization).\n",
        "\n",
        "> **Note:** For any technique you're unsure of, you can often quickly find an example by searching \"pytorch TECHNIQUE NAME\", for exmaple, say you wanted to learn about learning rate warmup and what it does, you could search \"pytorch learning rate warmup\"."
      ],
      "metadata": {
        "id": "kXHJU2UxKmY_"
      }
    },
    {
      "cell_type": "markdown",
      "source": [
        "### Plot the loss curves of our ViT model\n",
        "\n",
        "We've trained our ViT model and seen the results as numbers on a page.\n",
        "\n",
        "But let's now follow the data explorer's motto of *visualize, visualize, visualize!*\n",
        "\n",
        "And one of the best things to visualize for a model is its loss curves.\n",
        "\n",
        "To check out our ViT model's loss curves, we can use the `plot_loss_curves` function from `helper_functions.py"
      ],
      "metadata": {
        "id": "jcl7DogbKuZB"
      }
    },
    {
      "cell_type": "code",
      "source": [
        "from helper_functions import plot_loss_curves\n",
        "\n",
        "# Plot our ViT model's loss curves\n",
        "plot_loss_curves(results)"
      ],
      "metadata": {
        "id": "LxNfCbMWJ9Zn"
      },
      "execution_count": null,
      "outputs": []
    },
    {
      "cell_type": "markdown",
      "source": [
        "##  Using a pretrained ViT from `torchvision.models` on the same dataset\n",
        "\n",
        "We've discussed the benefits of using pretrained models in [06. PyTorch Transfer Learning](https://www.learnpytorch.io/06_pytorch_transfer_learning/).\n",
        "\n",
        "But since we've now trained our own ViT from scratch and achieved less than optimal results, the benefits of transfer learning (using a pretrained model) really shine.\n",
        "\n",
        "###  Why use a pretrained model?\n",
        "\n",
        "An important note on many modern machine learning research papers is that much of the results are obtained with large datasets and vast compute resources.\n",
        "\n",
        "And in modern day machine learning, the original fully trained ViT would likely not be considered a \"super large\" training setup (models are continually getting bigger and bigger).\n",
        "\n",
        "Reading the ViT paper section 4.2:\n",
        "\n",
        "> Finally, the ViT-L/16 model pre-trained on the public ImageNet-21k dataset performs well on most datasets too, while taking fewer resources to pre-train: it could be trained using a standard cloud TPUv3 with 8 cores in approximately **30 days**.\n",
        "\n",
        "As of July 2022, the [price for renting a TPUv3](https://cloud.google.com/tpu/pricing) (Tensor Processing Unit version 3) with 8 cores on Google Cloud is $8 USD per hour.\n",
        "\n",
        "To rent one for 30 straight days would cost **$5,760 USD**.\n",
        "\n",
        "This cost (monetary and time) may be viable for some larger research teams or enterprises but for many people it's not.\n",
        "\n",
        "So having a pretrained model available through resources like [`torchvision.models`](https://pytorch.org/vision/stable/models.html), the [`timm` (Torch Image Models) library](https://github.com/rwightman/pytorch-image-models), the [HuggingFace Hub](https://huggingface.co/models) or even from the authors of the papers themselves (there's a growing trend for machine learning researchers to release the code and pretrained models from their research papers, I'm a big fan of this trend, many of these resources can be found on [Paperswithcode.com](https://paperswithcode.com/))."
      ],
      "metadata": {
        "id": "ox251Y8ZLEgV"
      }
    },
    {
      "cell_type": "markdown",
      "source": [
        "###  Getting a pretrained ViT model and creating a feature extractor\n",
        "\n",
        "We can get a pretrained ViT model from `torchvision.models`.\n",
        "\n",
        "We'll go from the top by first making sure we've got the right versions of `torch` and `torchvision`."
      ],
      "metadata": {
        "id": "hrXjKOdcLKFc"
      }
    },
    {
      "cell_type": "code",
      "source": [
        "# The following requires torch v0.12+ and torchvision v0.13+\n",
        "import torch\n",
        "import torchvision\n",
        "print(torch.__version__)\n",
        "print(torchvision.__version__)"
      ],
      "metadata": {
        "id": "bsLKj3QuKy7I"
      },
      "execution_count": null,
      "outputs": []
    },
    {
      "cell_type": "code",
      "source": [
        "device = \"cuda\" if torch.cuda.is_available() else \"cpu\"\n",
        "device"
      ],
      "metadata": {
        "id": "vcTpAXweLNo2"
      },
      "execution_count": null,
      "outputs": []
    },
    {
      "cell_type": "markdown",
      "source": [
        "we'll get the pretrained ViT-Base with patch size 16 from `torchvision.models` and prepare it for our FoodVision Mini use case by turning it into a feature extractor transfer learning model.\n",
        "\n",
        "Specifically, we'll:\n",
        "1. Get the pretrained weights for ViT-Base trained on ImageNet-1k from [`torchvision.models.ViT_B_16_Weights.DEFAULT`](https://pytorch.org/vision/stable/models/generated/torchvision.models.vit_b_16.html#torchvision.models.ViT_B_16_Weights) (`DEFAULT` stands for best available).\n",
        "2. Setup a ViT model instance via `torchvision.models.vit_b_16`, pass it the pretrained weights step 1 and send it to the target device.\n",
        "3. Freeze all of the parameters in the base ViT model created in step 2 by setting their `requires_grad` attribute to `False`.\n",
        "4. Update the classifier head of the ViT model created in step 2 to suit our own problem by changing the number of `out_features` to our number of classes (pizza, steak, sushi).\n"
      ],
      "metadata": {
        "id": "6f7eMhtJLWnD"
      }
    },
    {
      "cell_type": "code",
      "source": [
        "# 1. Get pretrained weights for ViT-Base\n",
        "pretrained_vit_weights = torchvision.models.ViT_B_16_Weights.DEFAULT # requires torchvision >= 0.13, \"DEFAULT\" means best available\n",
        "\n",
        "# 2. Setup a ViT model instance with pretrained weights\n",
        "pretrained_vit = torchvision.models.vit_b_16(weights=pretrained_vit_weights).to(device)\n",
        "\n",
        "# 3. Freeze the base parameters\n",
        "for parameter in pretrained_vit.parameters():\n",
        "    parameter.requires_grad = False\n",
        "\n",
        "# 4. Change the classifier head (set the seeds to ensure same initialization with linear head)\n",
        "set_seeds()\n",
        "pretrained_vit.heads = nn.Linear(in_features=768, out_features=len(class_names)).to(device)\n",
        "# pretrained_vit # uncomment for model output"
      ],
      "metadata": {
        "id": "vVFN3wItLQJU"
      },
      "execution_count": null,
      "outputs": []
    },
    {
      "cell_type": "code",
      "source": [
        "# # Print a summary using torchinfo (uncomment for actual output)\n",
        "summary(model=pretrained_vit,\n",
        "        input_size=(32, 3, 224, 224), # (batch_size, color_channels, height, width)\n",
        "        # col_names=[\"input_size\"], # uncomment for smaller output\n",
        "        col_names=[\"input_size\", \"output_size\", \"num_params\", \"trainable\"],\n",
        "        col_width=20,\n",
        "        row_settings=[\"var_names\"]\n",
        ")"
      ],
      "metadata": {
        "id": "zlAOxwIPLa3a"
      },
      "execution_count": null,
      "outputs": []
    },
    {
      "cell_type": "markdown",
      "source": [
        "### Preparing data for the pretrained ViT model\n",
        "\n",
        "We downloaded and created DataLoaders for our own ViT model back in section 2.\n",
        "\n",
        "So we don't necessarily need to do it again.\n",
        "\n",
        "But in the name of practice, let's download some image data (pizza, steak and sushi images for Food Vision Mini), setup train and test directories and then transform the images into tensors and DataLoaders.\n",
        "\n"
      ],
      "metadata": {
        "id": "wuCowy5yLpQo"
      }
    },
    {
      "cell_type": "code",
      "source": [
        "from helper_functions import download_data\n",
        "\n",
        "# Download pizza, steak, sushi images from GitHub\n",
        "image_path = download_data(source=\"https://github.com/mrdbourke/pytorch-deep-learning/raw/main/data/pizza_steak_sushi.zip\",\n",
        "                           destination=\"pizza_steak_sushi\")\n",
        "image_path"
      ],
      "metadata": {
        "id": "YcB7skBmLjjC"
      },
      "execution_count": null,
      "outputs": []
    },
    {
      "cell_type": "code",
      "source": [
        "# Setup train and test directory paths\n",
        "train_dir = image_path / \"train\"\n",
        "test_dir = image_path / \"test\"\n",
        "train_dir, test_dir"
      ],
      "metadata": {
        "id": "C0AwO7MYLw9O"
      },
      "execution_count": null,
      "outputs": []
    },
    {
      "cell_type": "code",
      "source": [
        "# Get automatic transforms from pretrained ViT weights\n",
        "pretrained_vit_transforms = pretrained_vit_weights.transforms()\n",
        "print(pretrained_vit_transforms)"
      ],
      "metadata": {
        "id": "Ywcp7t8yLzHE"
      },
      "execution_count": null,
      "outputs": []
    },
    {
      "cell_type": "code",
      "source": [
        "# Setup dataloaders\n",
        "train_dataloader_pretrained, test_dataloader_pretrained, class_names = data_setup.create_dataloaders(train_dir=train_dir,\n",
        "                                                                                                     test_dir=test_dir,\n",
        "                                                                                                     transform=pretrained_vit_transforms,\n",
        "                                                                                                     batch_size=32)"
      ],
      "metadata": {
        "id": "qZiXy3cDL1zo"
      },
      "execution_count": null,
      "outputs": []
    },
    {
      "cell_type": "markdown",
      "source": [
        "### Train feature extractor ViT model\n",
        "\n",
        "Feature extractor model ready, DataLoaders ready, time to train!\n",
        "\n",
        "As before we'll use the Adam optimizer (`torch.optim.Adam()`) with a learning rate of `1e-3` and `torch.nn.CrossEntropyLoss()` as the loss function."
      ],
      "metadata": {
        "id": "lWYTJIyNL_J2"
      }
    },
    {
      "cell_type": "code",
      "source": [
        "from going_modular.going_modular import engine\n",
        "\n",
        "# Create optimizer and loss function\n",
        "optimizer = torch.optim.Adam(params=pretrained_vit.parameters(),\n",
        "                             lr=1e-3)\n",
        "loss_fn = torch.nn.CrossEntropyLoss()\n",
        "\n",
        "# Train the classifier head of the pretrained ViT feature extractor model\n",
        "set_seeds()\n",
        "pretrained_vit_results = engine.train(model=pretrained_vit,\n",
        "                                      train_dataloader=train_dataloader_pretrained,\n",
        "                                      test_dataloader=test_dataloader_pretrained,\n",
        "                                      optimizer=optimizer,\n",
        "                                      loss_fn=loss_fn,\n",
        "                                      epochs=10,\n",
        "                                      device=device)"
      ],
      "metadata": {
        "id": "OCfaPP8XL7kH"
      },
      "execution_count": null,
      "outputs": []
    },
    {
      "cell_type": "markdown",
      "source": [
        "### Plot feature extractor ViT model loss curves\n",
        "\n",
        "Our pretrained ViT feature model numbers look good on the training and test sets."
      ],
      "metadata": {
        "id": "_8F10bNrMKD9"
      }
    },
    {
      "cell_type": "code",
      "source": [
        "# Plot the loss curves\n",
        "from helper_functions import plot_loss_curves\n",
        "\n",
        "plot_loss_curves(pretrained_vit_results)"
      ],
      "metadata": {
        "id": "FAz9tfdLMF2q"
      },
      "execution_count": null,
      "outputs": []
    },
    {
      "cell_type": "code",
      "source": [],
      "metadata": {
        "id": "Xka3-VMEMdCP"
      },
      "execution_count": null,
      "outputs": []
    }
  ]
}